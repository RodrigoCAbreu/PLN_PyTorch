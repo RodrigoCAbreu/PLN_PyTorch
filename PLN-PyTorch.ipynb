{
 "cells": [
  {
   "cell_type": "code",
   "execution_count": 1,
   "metadata": {},
   "outputs": [
    {
     "name": "stdout",
     "output_type": "stream",
     "text": [
      "Versão da Linguagem Python Usada Neste Jupyter Notebook: 3.9.7\n"
     ]
    }
   ],
   "source": [
    "# Versão da Linguagem Python\n",
    "from platform import python_version\n",
    "print('Versão da Linguagem Python Usada Neste Jupyter Notebook:', python_version())"
   ]
  },
  {
   "cell_type": "markdown",
   "metadata": {},
   "source": [
    "O pipeline desse projeto é composto por:\n",
    "\n",
    "* Limpeza e Pré-Processamento\n",
    "* Engenharia de Atributos\n",
    "* Modelo Embeddings de Palavras Pré-Treinado\n",
    "* Modelo de Deep Learning - Rede Neural Recorrente BiLSTM"
   ]
  },
  {
   "cell_type": "markdown",
   "metadata": {},
   "source": [
    "## Definição do Problema\n",
    "\n",
    "Neste Projeto será desenvolvido um modelo de deep learning para prever se um determinado tweet é sobre um desastre real ou não. Se for desastre a previsão deve ser 1. Caso contrário, 0.\n",
    "\n",
    "Cada amostra no conjunto de treino e teste tem as seguintes informações:\n",
    "\n",
    "- O texto de um tweet.\n",
    "- Uma palavra-chave desse tweet (embora isso possa estar em branco).\n",
    "- O local de onde o tweet foi enviado (também pode estar em branco).\n"
   ]
  },
  {
   "cell_type": "markdown",
   "metadata": {},
   "source": [
    "## Dataset\n",
    "\n",
    "Usaremos um conjunto de dados baseado no dataset público: Mensagens Multilíngues de Resposta a Desastres\n",
    "\n",
    "Os dados contém um conjunto de mensagens relacionadas à resposta a desastres, cobrindo vários idiomas, adequado para categorização de texto e tarefas relacionadas ao processamento de linguagens naturais.\n",
    "\n",
    "Detahes sobre o dataset podem ser obtidos no endereço abaixo. O Dataset de treino e teste acompanham este Jupyter Notebook.\n",
    "\n",
    "https://appen.com/datasets/combined-disaster-response-data/"
   ]
  },
  {
   "cell_type": "code",
   "execution_count": 2,
   "metadata": {},
   "outputs": [],
   "source": [
    "# Imports\n",
    "import re\n",
    "import gc\n",
    "import nltk\n",
    "import torch\n",
    "import sklearn\n",
    "import gensim\n",
    "import numpy as np\n",
    "import pandas as pd\n",
    "import torch.nn as nn\n",
    "import matplotlib.pyplot as plt\n",
    "import seaborn as sns\n",
    "import gensim.downloader as api\n",
    "from collections import Counter\n",
    "from copy import deepcopy\n",
    "from nltk.tokenize import TweetTokenizer\n",
    "from nltk.sentiment.vader import SentimentIntensityAnalyzer\n",
    "from nltk.corpus import stopwords\n",
    "from gensim.models.word2vec import Word2Vec\n",
    "from sklearn.preprocessing import MinMaxScaler\n",
    "from sklearn.model_selection import train_test_split\n",
    "%matplotlib inline"
   ]
  },
  {
   "cell_type": "code",
   "execution_count": 3,
   "metadata": {},
   "outputs": [
    {
     "name": "stdout",
     "output_type": "stream",
     "text": [
      "Author: Rodrigo Abreu\n",
      "\n",
      "matplotlib: 3.5.1\n",
      "pandas    : 1.4.0\n",
      "torch     : 1.10.2\n",
      "sklearn   : 0.0\n",
      "nltk      : 3.6.7\n",
      "gensim    : 3.8.1\n",
      "seaborn   : 0.11.2\n",
      "re        : 2.2.1\n",
      "numpy     : 1.21.2\n",
      "\n"
     ]
    }
   ],
   "source": [
    "# Versões dos pacotes usados neste jupyter notebook\n",
    "%reload_ext watermark\n",
    "%watermark -a \"Rodrigo Abreu\" --iversions"
   ]
  },
  {
   "cell_type": "code",
   "execution_count": 4,
   "metadata": {},
   "outputs": [
    {
     "name": "stdout",
     "output_type": "stream",
     "text": [
      "Dispositivo sendo usado: cuda\n"
     ]
    }
   ],
   "source": [
    "# Determina o device onde o modelo será executado\n",
    "device = 'cuda' if torch.cuda.is_available() else 'cpu'\n",
    "print(f'Dispositivo sendo usado: {device}')"
   ]
  },
  {
   "cell_type": "code",
   "execution_count": 5,
   "metadata": {},
   "outputs": [
    {
     "name": "stdout",
     "output_type": "stream",
     "text": [
      "Sun Jan 30 16:01:10 2022       \n",
      "+-----------------------------------------------------------------------------+\n",
      "| NVIDIA-SMI 462.30       Driver Version: 462.30       CUDA Version: 11.2     |\n",
      "|-------------------------------+----------------------+----------------------+\n",
      "| GPU  Name            TCC/WDDM | Bus-Id        Disp.A | Volatile Uncorr. ECC |\n",
      "| Fan  Temp  Perf  Pwr:Usage/Cap|         Memory-Usage | GPU-Util  Compute M. |\n",
      "|                               |                      |               MIG M. |\n",
      "|===============================+======================+======================|\n",
      "|   0  GeForce GTX 1650   WDDM  | 00000000:01:00.0  On |                  N/A |\n",
      "| N/A   40C    P8     1W /  N/A |    261MiB /  4096MiB |      0%      Default |\n",
      "|                               |                      |                  N/A |\n",
      "+-------------------------------+----------------------+----------------------+\n",
      "                                                                               \n",
      "+-----------------------------------------------------------------------------+\n",
      "| Processes:                                                                  |\n",
      "|  GPU   GI   CI        PID   Type   Process name                  GPU Memory |\n",
      "|        ID   ID                                                   Usage      |\n",
      "|=============================================================================|\n",
      "|    0   N/A  N/A     12328    C+G   ...nputApp\\TextInputHost.exe    N/A      |\n",
      "|    0   N/A  N/A     15988    C+G   ...cw5n1h2txyewy\\LockApp.exe    N/A      |\n",
      "|    0   N/A  N/A     17192    C+G   Insufficient Permissions        N/A      |\n",
      "+-----------------------------------------------------------------------------+\n"
     ]
    }
   ],
   "source": [
    "#Verifica GPU\n",
    "!nvidia-smi"
   ]
  },
  {
   "cell_type": "code",
   "execution_count": 6,
   "metadata": {},
   "outputs": [
    {
     "name": "stderr",
     "output_type": "stream",
     "text": [
      "[nltk_data] Downloading package averaged_perceptron_tagger to\n",
      "[nltk_data]     C:\\Users\\Rodrigo\\AppData\\Roaming\\nltk_data...\n",
      "[nltk_data]   Package averaged_perceptron_tagger is already up-to-\n",
      "[nltk_data]       date!\n"
     ]
    },
    {
     "data": {
      "text/plain": [
       "True"
      ]
     },
     "execution_count": 6,
     "metadata": {},
     "output_type": "execute_result"
    }
   ],
   "source": [
    "# Download do etiquetador NLTK\n",
    "nltk.download('averaged_perceptron_tagger')"
   ]
  },
  {
   "cell_type": "code",
   "execution_count": 7,
   "metadata": {},
   "outputs": [
    {
     "name": "stderr",
     "output_type": "stream",
     "text": [
      "[nltk_data] Downloading package vader_lexicon to\n",
      "[nltk_data]     C:\\Users\\Rodrigo\\AppData\\Roaming\\nltk_data...\n",
      "[nltk_data]   Package vader_lexicon is already up-to-date!\n"
     ]
    },
    {
     "data": {
      "text/plain": [
       "True"
      ]
     },
     "execution_count": 7,
     "metadata": {},
     "output_type": "execute_result"
    }
   ],
   "source": [
    "# Download do léxico\n",
    "nltk.download('vader_lexicon')"
   ]
  },
  {
   "cell_type": "markdown",
   "metadata": {},
   "source": [
    "### Limpeza do Texto"
   ]
  },
  {
   "cell_type": "markdown",
   "metadata": {},
   "source": [
    "Caso tenha dúvida sobre aplicação de expressão regular em Python consultar a tabela de metacaracteres:\n",
    "\n",
    "https://www.w3schools.com/python/python_regex.asp"
   ]
  },
  {
   "cell_type": "code",
   "execution_count": 8,
   "metadata": {},
   "outputs": [],
   "source": [
    "# Função para normalização do texto\n",
    "def normaliza_tweet(text):\n",
    "\n",
    "    # Altera hiperlinks para tokens '<url>'\n",
    "    output = re.sub(r'http[s]{0,1}://t.co/[a-zA-Z0-9]+\\b', '<url>', text)\n",
    "    \n",
    "    # Separa todos os sinais '#' da palavra seguinte com um espaço em branco\n",
    "    output = re.sub(r'#(\\w+)', r'# \\1', output)\n",
    "\n",
    "    return output"
   ]
  },
  {
   "cell_type": "code",
   "execution_count": 9,
   "metadata": {},
   "outputs": [],
   "source": [
    "# Função para tokenização\n",
    "# Tokeniza as sentenças, mas deixa hastags (#) e users (@)\n",
    "def tokenize(tokenizer, string):    \n",
    "    tokenized = tokenizer.tokenize(string)\n",
    "    return tokenized"
   ]
  },
  {
   "cell_type": "code",
   "execution_count": 10,
   "metadata": {},
   "outputs": [],
   "source": [
    "# Função que retorna a string tokenizada (lista) com números substituídos por um token numérico\n",
    "def numero_tokens(tokenized_string, num_token = '<number>'):\n",
    "    \n",
    "    # Cria uma lista de tuplas (palavra, tags POS)\n",
    "    pos_tagged = nltk.pos_tag(tokenized_string)\n",
    "    \n",
    "    # Encontre índices de número de POS tags\n",
    "    num_indices = [idx for idx in range(len(pos_tagged)) if pos_tagged[idx][1] == 'CD']\n",
    "    \n",
    "    # Substitui números por token\n",
    "    for idx in num_indices:\n",
    "        tokenized_string[idx] = num_token\n",
    "        \n",
    "    return tokenized_string    "
   ]
  },
  {
   "cell_type": "code",
   "execution_count": 11,
   "metadata": {},
   "outputs": [],
   "source": [
    "# Função que executa todas as funções de limpeza de texto\n",
    "def preprocessa_texto(tokenizer, string):    \n",
    "    return numero_tokens(tokenize(tokenizer, normaliza_tweet(string)))"
   ]
  },
  {
   "cell_type": "code",
   "execution_count": 12,
   "metadata": {},
   "outputs": [],
   "source": [
    "# Retorna palavra chave tokenizada e limpa\n",
    "def preprocessa_keyword(keyword):\n",
    "    \n",
    "    # Retorna None se a palavra-chave for np.nan\n",
    "    if type(keyword) == np.float and np.isnan(keyword):\n",
    "        return\n",
    "    \n",
    "    # Replace '%20' com espaço, minúsculo e tokenizado\n",
    "    output = re.sub(r'%20', ' ', keyword)\n",
    "    output = output.lower()\n",
    "    output = output.split()\n",
    "    return output"
   ]
  },
  {
   "cell_type": "markdown",
   "metadata": {},
   "source": [
    "O pipeline de limpeza de texto está pronto. Vamos agora preparar as funções de engenharia de atributos."
   ]
  },
  {
   "cell_type": "markdown",
   "metadata": {},
   "source": [
    "## Funções Para Engenharia de Atributos"
   ]
  },
  {
   "cell_type": "code",
   "execution_count": 13,
   "metadata": {},
   "outputs": [],
   "source": [
    "# Função que retorna um número inteiro que indica palavras com todas as letras maiúsculas.\n",
    "def count_all_caps(text):\n",
    "    return len([word for word in text.split() if word.isupper()])"
   ]
  },
  {
   "cell_type": "code",
   "execution_count": 14,
   "metadata": {},
   "outputs": [],
   "source": [
    "# Função que retorna um número inteiro que indica se a primeira letra da palavra é maiúscula.\n",
    "def count_capitalized(text):\n",
    "    return len([word for word in text.split() if word.istitle()])"
   ]
  },
  {
   "cell_type": "code",
   "execution_count": 15,
   "metadata": {},
   "outputs": [],
   "source": [
    "# Função que retorna um número inteiro indicando total de palavras no tweet.\n",
    "def count_words(text):\n",
    "    return len(text.split())"
   ]
  },
  {
   "cell_type": "code",
   "execution_count": 16,
   "metadata": {},
   "outputs": [],
   "source": [
    "# Função que adiciona 4 colunas de pontuações de análise de sentimento a um DataFrame. \n",
    "def sentiment_analyze_df(df, column):\n",
    "\n",
    "    # Instância do analisador de sentimento\n",
    "    sid = SentimentIntensityAnalyzer()\n",
    "    \n",
    "    # Cria uma matriz e preenche com pontuações de cada um dos df[coluna]\n",
    "    output_values = np.zeros((len(df), 4))\n",
    "    for tup in df.itertuples():\n",
    "        output_values[tup.Index, :] = list(sid.polarity_scores(' '.join(getattr(tup, column))).values())\n",
    "    \n",
    "    # Adiciona coluna à entrada DataFrame\n",
    "    for idx, col in enumerate(['sent_neg', 'sent_neu', 'sent_pos', 'sent_compound']):\n",
    "        df[col] = output_values[:, idx]"
   ]
  },
  {
   "cell_type": "markdown",
   "metadata": {},
   "source": [
    "## Funções Word Embedding"
   ]
  },
  {
   "cell_type": "markdown",
   "metadata": {},
   "source": [
    "### Text embedding"
   ]
  },
  {
   "cell_type": "code",
   "execution_count": 17,
   "metadata": {},
   "outputs": [],
   "source": [
    "# Função que retorna o vetor embedding da palavra de entrada\n",
    "def get_word_vec(embedding_model, use_norm, word):\n",
    "\n",
    "    if word[0] == '@':\n",
    "        return embedding_model.word_vec('<user>', use_norm = use_norm)\n",
    "        \n",
    "    elif word == '#':\n",
    "        return embedding_model.word_vec('<hashtag>', use_norm = use_norm)\n",
    "\n",
    "    elif word in embedding_model.vocab:\n",
    "        return embedding_model.word_vec(word, use_norm = use_norm)\n",
    "\n",
    "    else:\n",
    "        return embedding_model.word_vec('<UNK>', use_norm = use_norm)"
   ]
  },
  {
   "cell_type": "code",
   "execution_count": 18,
   "metadata": {},
   "outputs": [],
   "source": [
    "# Função que retorna vetores embedding dos tweets\n",
    "def text_to_vectors(embedding_model, use_norm, tokenized_text):\n",
    "    vectors = [get_word_vec(embedding_model, use_norm, word) for word in tokenized_text]\n",
    "    vectors = np.array(vectors)\n",
    "    \n",
    "    return vectors"
   ]
  },
  {
   "cell_type": "code",
   "execution_count": 19,
   "metadata": {},
   "outputs": [],
   "source": [
    "# Função que retorna uma matriz de vetores embedding dos textos com dimensões (seq_len, embedding)\n",
    "def trim_and_pad_vectors(text_vectors, embedding_dimension, seq_len):\n",
    "\n",
    "    # Instancia matriz de 0's \n",
    "    output = np.zeros((seq_len, embedding_dimension))\n",
    "\n",
    "    # Ajusta tweets mais longos para seq_len \n",
    "    trimmed_vectors = text_vectors[:seq_len]\n",
    "\n",
    "    # Determina o índice de fim do padding e começo do tweet embedding\n",
    "    end_of_padding_index = seq_len - trimmed_vectors.shape[0]\n",
    "\n",
    "    # Output\n",
    "    output[end_of_padding_index:] = trimmed_vectors\n",
    "\n",
    "    return output"
   ]
  },
  {
   "cell_type": "code",
   "execution_count": 20,
   "metadata": {},
   "outputs": [],
   "source": [
    "# Retorna representações embedding to texto de entrada tokenizado\n",
    "def embedding_preprocess(embedding_model, use_norm, seq_len, tokenized_text):\n",
    "    \n",
    "    # Obtém a matriz com vetores embedding (tweet length, embedding_dimension)\n",
    "    text_vectors = text_to_vectors(embedding_model, use_norm, tokenized_text)\n",
    "    \n",
    "    # Output\n",
    "    output = trim_and_pad_vectors(text_vectors, embedding_model.vector_size, seq_len)\n",
    "    \n",
    "    return output"
   ]
  },
  {
   "cell_type": "markdown",
   "metadata": {},
   "source": [
    "### Keyword Embedding"
   ]
  },
  {
   "cell_type": "code",
   "execution_count": 21,
   "metadata": {},
   "outputs": [],
   "source": [
    "# Função que retorna vetores embedding das palavras chave\n",
    "def keyword_to_avg_vector(embedding_model, use_norm, tokenized_keyword):\n",
    "    \n",
    "    # Retorna um vetor de zeros se tokenized_keyword é None\n",
    "    if tokenized_keyword is None:\n",
    "        return np.zeros((1, embedding_model.vector_size))\n",
    "    \n",
    "    # Se não, calclula o vetor embedding médio\n",
    "    vectors = [get_word_vec(embedding_model, use_norm, word) for word in tokenized_keyword]\n",
    "    vectors = np.array(vectors)\n",
    "    avg_vector = np.mean(vectors, axis = 0)\n",
    "    avg_vector = avg_vector.reshape((1, embedding_model.vector_size))\n",
    "    return avg_vector"
   ]
  },
  {
   "cell_type": "markdown",
   "metadata": {},
   "source": [
    "## Preparação do Modelo Embedding"
   ]
  },
  {
   "cell_type": "code",
   "execution_count": 22,
   "metadata": {},
   "outputs": [],
   "source": [
    "# Vamos carregar um modelo pré-treinado com dados do twitter\n",
    "model_glove_twitter = api.load(\"glove-twitter-100\")"
   ]
  },
  {
   "cell_type": "code",
   "execution_count": 23,
   "metadata": {},
   "outputs": [
    {
     "data": {
      "text/plain": [
       "array([[ 0.7249299 , -0.17991556,  0.20022245, -0.6223361 ,  0.41905704,\n",
       "         0.95024174, -0.91095716, -0.28629118,  0.23299585,  0.55217576,\n",
       "        -0.6440476 ,  0.21669436,  0.213911  , -0.32751116, -0.6010835 ,\n",
       "        -0.55874133,  0.5080223 , -0.12862799, -0.3951096 ,  0.98942626,\n",
       "        -0.76456773,  0.38007945,  0.34717184,  0.60850847,  0.3962299 ,\n",
       "         0.10951609, -0.51471466,  0.20750381, -0.49109656,  0.53883564,\n",
       "        -0.8589843 ,  0.11728161,  0.28231525, -0.24641019,  0.81284326,\n",
       "        -0.2166157 , -0.53055185,  0.35666743,  0.40505287, -0.21524957,\n",
       "         0.5704149 ,  0.9067051 , -0.26678383, -0.24440052, -0.5082819 ,\n",
       "        -0.9251748 , -0.33841223, -0.00982468,  0.19174811, -0.8679798 ,\n",
       "         0.5824245 , -0.36564016,  0.07642578,  0.79425174,  0.77150774,\n",
       "         0.14688094, -0.9475852 ,  0.9995324 , -0.31873545, -0.48441347,\n",
       "         0.24786821,  0.1098464 , -0.481735  ,  0.48816824,  0.8394119 ,\n",
       "        -0.92250556, -0.11882962,  0.95491195,  0.48436278,  0.75847447,\n",
       "        -0.62181795,  0.4222112 , -0.65898216, -0.31298387, -0.35659707,\n",
       "        -0.93836266, -0.21224645,  0.2820799 ,  0.25508955,  0.11281823,\n",
       "         0.922385  ,  0.44125777,  0.8647389 ,  0.67593503,  0.98155844,\n",
       "        -0.643572  , -0.699848  , -0.7125258 , -0.22807619,  0.94964457,\n",
       "         0.9479843 , -0.52295667, -0.652539  ,  0.6247864 , -0.23596892,\n",
       "        -0.09128152,  0.46859625,  0.1713127 , -0.41454443, -0.8804218 ]],\n",
       "      dtype=float32)"
      ]
     },
     "execution_count": 23,
     "metadata": {},
     "output_type": "execute_result"
    }
   ],
   "source": [
    "# Cria um vetor randômico para representar o token <UNK>  (unseen word)\n",
    "random_vec_for_unk = np.random.uniform(-1, 1, size = model_glove_twitter.vector_size).astype('float32')\n",
    "random_vec_for_unk = random_vec_for_unk.reshape(1, model_glove_twitter.vector_size)\n",
    "random_vec_for_unk"
   ]
  },
  {
   "cell_type": "code",
   "execution_count": 24,
   "metadata": {},
   "outputs": [
    {
     "data": {
      "text/plain": [
       "[('tkip', 0.4117160737514496),\n",
       " ('kimbusonerile', 0.39875176548957825),\n",
       " ('berkendara', 0.391448438167572),\n",
       " ('#進撃の巨人好きな人', 0.38137921690940857),\n",
       " ('anti-clockwise', 0.38057464361190796),\n",
       " ('encaminados', 0.3802928626537323),\n",
       " ('callados', 0.3753802478313446),\n",
       " ('分クリアしました', 0.3738648295402527),\n",
       " ('cycles', 0.3738114833831787),\n",
       " ('terekam', 0.37061718106269836)]"
      ]
     },
     "execution_count": 24,
     "metadata": {},
     "output_type": "execute_result"
    }
   ],
   "source": [
    "# Testa similaridade\n",
    "model_glove_twitter.most_similar(random_vec_for_unk)"
   ]
  },
  {
   "cell_type": "code",
   "execution_count": 25,
   "metadata": {},
   "outputs": [],
   "source": [
    "# Adiciona o vetor randômico ao modelo\n",
    "model_glove_twitter.add(['<UNK>'], random_vec_for_unk, replace = True)"
   ]
  },
  {
   "cell_type": "code",
   "execution_count": 26,
   "metadata": {},
   "outputs": [],
   "source": [
    "# Gera vetores normalizados e substitui originais\n",
    "model_glove_twitter.init_sims(replace = True)"
   ]
  },
  {
   "cell_type": "markdown",
   "metadata": {},
   "source": [
    "## Pré-Processamento"
   ]
  },
  {
   "cell_type": "code",
   "execution_count": 27,
   "metadata": {},
   "outputs": [
    {
     "data": {
      "text/html": [
       "<div>\n",
       "<style scoped>\n",
       "    .dataframe tbody tr th:only-of-type {\n",
       "        vertical-align: middle;\n",
       "    }\n",
       "\n",
       "    .dataframe tbody tr th {\n",
       "        vertical-align: top;\n",
       "    }\n",
       "\n",
       "    .dataframe thead th {\n",
       "        text-align: right;\n",
       "    }\n",
       "</style>\n",
       "<table border=\"1\" class=\"dataframe\">\n",
       "  <thead>\n",
       "    <tr style=\"text-align: right;\">\n",
       "      <th></th>\n",
       "      <th>id</th>\n",
       "      <th>keyword</th>\n",
       "      <th>location</th>\n",
       "      <th>text</th>\n",
       "      <th>target</th>\n",
       "    </tr>\n",
       "  </thead>\n",
       "  <tbody>\n",
       "    <tr>\n",
       "      <th>0</th>\n",
       "      <td>1</td>\n",
       "      <td>NaN</td>\n",
       "      <td>NaN</td>\n",
       "      <td>Our Deeds are the Reason of this #earthquake M...</td>\n",
       "      <td>1</td>\n",
       "    </tr>\n",
       "    <tr>\n",
       "      <th>1</th>\n",
       "      <td>4</td>\n",
       "      <td>NaN</td>\n",
       "      <td>NaN</td>\n",
       "      <td>Forest fire near La Ronge Sask. Canada</td>\n",
       "      <td>1</td>\n",
       "    </tr>\n",
       "    <tr>\n",
       "      <th>2</th>\n",
       "      <td>5</td>\n",
       "      <td>NaN</td>\n",
       "      <td>NaN</td>\n",
       "      <td>All residents asked to 'shelter in place' are ...</td>\n",
       "      <td>1</td>\n",
       "    </tr>\n",
       "    <tr>\n",
       "      <th>3</th>\n",
       "      <td>6</td>\n",
       "      <td>NaN</td>\n",
       "      <td>NaN</td>\n",
       "      <td>13,000 people receive #wildfires evacuation or...</td>\n",
       "      <td>1</td>\n",
       "    </tr>\n",
       "    <tr>\n",
       "      <th>4</th>\n",
       "      <td>7</td>\n",
       "      <td>NaN</td>\n",
       "      <td>NaN</td>\n",
       "      <td>Just got sent this photo from Ruby #Alaska as ...</td>\n",
       "      <td>1</td>\n",
       "    </tr>\n",
       "  </tbody>\n",
       "</table>\n",
       "</div>"
      ],
      "text/plain": [
       "   id keyword location                                               text  \\\n",
       "0   1     NaN      NaN  Our Deeds are the Reason of this #earthquake M...   \n",
       "1   4     NaN      NaN             Forest fire near La Ronge Sask. Canada   \n",
       "2   5     NaN      NaN  All residents asked to 'shelter in place' are ...   \n",
       "3   6     NaN      NaN  13,000 people receive #wildfires evacuation or...   \n",
       "4   7     NaN      NaN  Just got sent this photo from Ruby #Alaska as ...   \n",
       "\n",
       "   target  \n",
       "0       1  \n",
       "1       1  \n",
       "2       1  \n",
       "3       1  \n",
       "4       1  "
      ]
     },
     "execution_count": 27,
     "metadata": {},
     "output_type": "execute_result"
    }
   ],
   "source": [
    "# Carrega os dados de treino\n",
    "dados_treino = pd.read_csv('dados/dados_treino.csv')\n",
    "dados_treino.head()"
   ]
  },
  {
   "cell_type": "markdown",
   "metadata": {},
   "source": [
    "### Limpeza"
   ]
  },
  {
   "cell_type": "code",
   "execution_count": 28,
   "metadata": {},
   "outputs": [],
   "source": [
    "# Cria um tokenizador que transforma para letra minúscula, reduz o comprimento e preserva o usuário ('@user')\n",
    "tokenizer = TweetTokenizer(preserve_case = False, reduce_len = True, strip_handles = False)"
   ]
  },
  {
   "cell_type": "code",
   "execution_count": 29,
   "metadata": {},
   "outputs": [],
   "source": [
    "# Normaliza e tokeniza texto\n",
    "dados_treino['tok_norm_text'] = [preprocessa_texto(tokenizer, text) for text in dados_treino['text']]"
   ]
  },
  {
   "cell_type": "code",
   "execution_count": 30,
   "metadata": {},
   "outputs": [
    {
     "name": "stderr",
     "output_type": "stream",
     "text": [
      "C:\\Users\\Rodrigo\\AppData\\Local\\Temp/ipykernel_12272/3794355494.py:5: DeprecationWarning: `np.float` is a deprecated alias for the builtin `float`. To silence this warning, use `float` by itself. Doing this will not modify any behavior and is safe. If you specifically wanted the numpy scalar type, use `np.float64` here.\n",
      "Deprecated in NumPy 1.20; for more details and guidance: https://numpy.org/devdocs/release/1.20.0-notes.html#deprecations\n",
      "  if type(keyword) == np.float and np.isnan(keyword):\n"
     ]
    }
   ],
   "source": [
    "# Normaliza e tokeniza keyword\n",
    "dados_treino['keyword'] = dados_treino['keyword'].apply(preprocessa_keyword)"
   ]
  },
  {
   "cell_type": "markdown",
   "metadata": {},
   "source": [
    "### Engenharia de Atributos"
   ]
  },
  {
   "cell_type": "code",
   "execution_count": 31,
   "metadata": {},
   "outputs": [],
   "source": [
    "# Aplica as funções aos dados\n",
    "dados_treino['num_all_caps'] = dados_treino['text'].apply(count_all_caps)\n",
    "dados_treino['num_caps'] = dados_treino['text'].apply(count_capitalized)\n",
    "dados_treino['num_words'] = dados_treino['text'].apply(count_words)"
   ]
  },
  {
   "cell_type": "code",
   "execution_count": 32,
   "metadata": {},
   "outputs": [],
   "source": [
    "# Cria um scaler para que todos os recursos estejam dentro do range [-1, 1]\n",
    "scaler = MinMaxScaler(feature_range=(-1, 1))"
   ]
  },
  {
   "cell_type": "code",
   "execution_count": 33,
   "metadata": {},
   "outputs": [],
   "source": [
    "# Aplica o scaler\n",
    "columns_to_scale = ['num_all_caps', 'num_caps', 'num_words']\n",
    "scaler.fit(dados_treino[columns_to_scale])\n",
    "dados_treino[columns_to_scale] = scaler.transform(dados_treino[columns_to_scale])"
   ]
  },
  {
   "cell_type": "code",
   "execution_count": 34,
   "metadata": {},
   "outputs": [],
   "source": [
    "# Cria recursos de análise de sentimentos\n",
    "sentiment_analyze_df(dados_treino, 'tok_norm_text')"
   ]
  },
  {
   "cell_type": "code",
   "execution_count": 35,
   "metadata": {},
   "outputs": [
    {
     "data": {
      "text/html": [
       "<div>\n",
       "<style scoped>\n",
       "    .dataframe tbody tr th:only-of-type {\n",
       "        vertical-align: middle;\n",
       "    }\n",
       "\n",
       "    .dataframe tbody tr th {\n",
       "        vertical-align: top;\n",
       "    }\n",
       "\n",
       "    .dataframe thead th {\n",
       "        text-align: right;\n",
       "    }\n",
       "</style>\n",
       "<table border=\"1\" class=\"dataframe\">\n",
       "  <thead>\n",
       "    <tr style=\"text-align: right;\">\n",
       "      <th></th>\n",
       "      <th>id</th>\n",
       "      <th>keyword</th>\n",
       "      <th>location</th>\n",
       "      <th>text</th>\n",
       "      <th>target</th>\n",
       "      <th>tok_norm_text</th>\n",
       "      <th>num_all_caps</th>\n",
       "      <th>num_caps</th>\n",
       "      <th>num_words</th>\n",
       "      <th>sent_neg</th>\n",
       "      <th>sent_neu</th>\n",
       "      <th>sent_pos</th>\n",
       "      <th>sent_compound</th>\n",
       "    </tr>\n",
       "  </thead>\n",
       "  <tbody>\n",
       "    <tr>\n",
       "      <th>0</th>\n",
       "      <td>1</td>\n",
       "      <td>None</td>\n",
       "      <td>NaN</td>\n",
       "      <td>Our Deeds are the Reason of this #earthquake M...</td>\n",
       "      <td>1</td>\n",
       "      <td>[our, deeds, are, the, reason, of, this, #, ea...</td>\n",
       "      <td>-0.92</td>\n",
       "      <td>-0.565217</td>\n",
       "      <td>-0.200000</td>\n",
       "      <td>0.000</td>\n",
       "      <td>0.851</td>\n",
       "      <td>0.149</td>\n",
       "      <td>0.2732</td>\n",
       "    </tr>\n",
       "    <tr>\n",
       "      <th>1</th>\n",
       "      <td>4</td>\n",
       "      <td>None</td>\n",
       "      <td>NaN</td>\n",
       "      <td>Forest fire near La Ronge Sask. Canada</td>\n",
       "      <td>1</td>\n",
       "      <td>[forest, fire, near, la, ronge, sask, ., canada]</td>\n",
       "      <td>-1.00</td>\n",
       "      <td>-0.565217</td>\n",
       "      <td>-0.600000</td>\n",
       "      <td>0.286</td>\n",
       "      <td>0.714</td>\n",
       "      <td>0.000</td>\n",
       "      <td>-0.3400</td>\n",
       "    </tr>\n",
       "    <tr>\n",
       "      <th>2</th>\n",
       "      <td>5</td>\n",
       "      <td>None</td>\n",
       "      <td>NaN</td>\n",
       "      <td>All residents asked to 'shelter in place' are ...</td>\n",
       "      <td>1</td>\n",
       "      <td>[all, residents, asked, to, ', shelter, in, pl...</td>\n",
       "      <td>-1.00</td>\n",
       "      <td>-0.826087</td>\n",
       "      <td>0.400000</td>\n",
       "      <td>0.095</td>\n",
       "      <td>0.905</td>\n",
       "      <td>0.000</td>\n",
       "      <td>-0.2960</td>\n",
       "    </tr>\n",
       "    <tr>\n",
       "      <th>3</th>\n",
       "      <td>6</td>\n",
       "      <td>None</td>\n",
       "      <td>NaN</td>\n",
       "      <td>13,000 people receive #wildfires evacuation or...</td>\n",
       "      <td>1</td>\n",
       "      <td>[&lt;number&gt;, people, receive, #, wildfires, evac...</td>\n",
       "      <td>-1.00</td>\n",
       "      <td>-0.913043</td>\n",
       "      <td>-0.533333</td>\n",
       "      <td>0.000</td>\n",
       "      <td>1.000</td>\n",
       "      <td>0.000</td>\n",
       "      <td>0.0000</td>\n",
       "    </tr>\n",
       "    <tr>\n",
       "      <th>4</th>\n",
       "      <td>7</td>\n",
       "      <td>None</td>\n",
       "      <td>NaN</td>\n",
       "      <td>Just got sent this photo from Ruby #Alaska as ...</td>\n",
       "      <td>1</td>\n",
       "      <td>[just, got, sent, this, photo, from, ruby, #, ...</td>\n",
       "      <td>-1.00</td>\n",
       "      <td>-0.739130</td>\n",
       "      <td>0.000000</td>\n",
       "      <td>0.000</td>\n",
       "      <td>1.000</td>\n",
       "      <td>0.000</td>\n",
       "      <td>0.0000</td>\n",
       "    </tr>\n",
       "  </tbody>\n",
       "</table>\n",
       "</div>"
      ],
      "text/plain": [
       "   id keyword location                                               text  \\\n",
       "0   1    None      NaN  Our Deeds are the Reason of this #earthquake M...   \n",
       "1   4    None      NaN             Forest fire near La Ronge Sask. Canada   \n",
       "2   5    None      NaN  All residents asked to 'shelter in place' are ...   \n",
       "3   6    None      NaN  13,000 people receive #wildfires evacuation or...   \n",
       "4   7    None      NaN  Just got sent this photo from Ruby #Alaska as ...   \n",
       "\n",
       "   target                                      tok_norm_text  num_all_caps  \\\n",
       "0       1  [our, deeds, are, the, reason, of, this, #, ea...         -0.92   \n",
       "1       1   [forest, fire, near, la, ronge, sask, ., canada]         -1.00   \n",
       "2       1  [all, residents, asked, to, ', shelter, in, pl...         -1.00   \n",
       "3       1  [<number>, people, receive, #, wildfires, evac...         -1.00   \n",
       "4       1  [just, got, sent, this, photo, from, ruby, #, ...         -1.00   \n",
       "\n",
       "   num_caps  num_words  sent_neg  sent_neu  sent_pos  sent_compound  \n",
       "0 -0.565217  -0.200000     0.000     0.851     0.149         0.2732  \n",
       "1 -0.565217  -0.600000     0.286     0.714     0.000        -0.3400  \n",
       "2 -0.826087   0.400000     0.095     0.905     0.000        -0.2960  \n",
       "3 -0.913043  -0.533333     0.000     1.000     0.000         0.0000  \n",
       "4 -0.739130   0.000000     0.000     1.000     0.000         0.0000  "
      ]
     },
     "execution_count": 35,
     "metadata": {},
     "output_type": "execute_result"
    }
   ],
   "source": [
    "# Visualiza\n",
    "dados_treino.head()"
   ]
  },
  {
   "cell_type": "code",
   "execution_count": 36,
   "metadata": {
    "scrolled": true
   },
   "outputs": [
    {
     "name": "stderr",
     "output_type": "stream",
     "text": [
      "C:\\Users\\Rodrigo\\anaconda3\\envs\\pytorch\\lib\\site-packages\\seaborn\\distributions.py:2619: FutureWarning: `distplot` is a deprecated function and will be removed in a future version. Please adapt your code to use either `displot` (a figure-level function with similar flexibility) or `histplot` (an axes-level function for histograms).\n",
      "  warnings.warn(msg, FutureWarning)\n"
     ]
    },
    {
     "data": {
      "text/plain": [
       "<AxesSubplot:ylabel='Density'>"
      ]
     },
     "execution_count": 36,
     "metadata": {},
     "output_type": "execute_result"
    },
    {
     "data": {
      "image/png": "[encoded data removed]",
      "text/plain": [
       "<Figure size 432x288 with 1 Axes>"
      ]
     },
     "metadata": {
      "needs_background": "light"
     },
     "output_type": "display_data"
    }
   ],
   "source": [
    "# Plot\n",
    "sns.distplot([len(tok) for tok in dados_treino['tok_norm_text']])"
   ]
  },
  {
   "cell_type": "markdown",
   "metadata": {},
   "source": [
    "Parece que a maioria dos textos tem menos de 35 palavras. <br>\n",
    "Portanto, uma escolha razoável entre perda de dados e complexidade computacional será escolher o tamanho máximo de sequências igual a 35, ou seja, aparando (padding) o texto após a 35ª palavra."
   ]
  },
  {
   "cell_type": "markdown",
   "metadata": {},
   "source": [
    "### Atributos Textuais Para Representação Embedding de Palavras"
   ]
  },
  {
   "cell_type": "code",
   "execution_count": 37,
   "metadata": {},
   "outputs": [],
   "source": [
    "# Sequência máxima\n",
    "sequence_max_length = 30"
   ]
  },
  {
   "cell_type": "code",
   "execution_count": 38,
   "metadata": {},
   "outputs": [],
   "source": [
    "# Gera o embedding do texto\n",
    "dados_treino['text_embedding'] = [embedding_preprocess(embedding_model = model_glove_twitter, \n",
    "                                                       use_norm = True, \n",
    "                                                       seq_len = sequence_max_length, \n",
    "                                                       tokenized_text = text) \n",
    "                                  for text in dados_treino['tok_norm_text']]"
   ]
  },
  {
   "cell_type": "code",
   "execution_count": 39,
   "metadata": {},
   "outputs": [],
   "source": [
    "# Gera o embedding da palavra chave\n",
    "dados_treino['keyword_embedding'] = [keyword_to_avg_vector(embedding_model = model_glove_twitter, \n",
    "                                                           use_norm = True, \n",
    "                                                           tokenized_keyword = keyword) \n",
    "                                     for keyword in dados_treino['keyword']]"
   ]
  },
  {
   "cell_type": "code",
   "execution_count": 40,
   "metadata": {
    "scrolled": true
   },
   "outputs": [
    {
     "data": {
      "text/html": [
       "<div>\n",
       "<style scoped>\n",
       "    .dataframe tbody tr th:only-of-type {\n",
       "        vertical-align: middle;\n",
       "    }\n",
       "\n",
       "    .dataframe tbody tr th {\n",
       "        vertical-align: top;\n",
       "    }\n",
       "\n",
       "    .dataframe thead th {\n",
       "        text-align: right;\n",
       "    }\n",
       "</style>\n",
       "<table border=\"1\" class=\"dataframe\">\n",
       "  <thead>\n",
       "    <tr style=\"text-align: right;\">\n",
       "      <th></th>\n",
       "      <th>id</th>\n",
       "      <th>keyword</th>\n",
       "      <th>location</th>\n",
       "      <th>text</th>\n",
       "      <th>target</th>\n",
       "      <th>tok_norm_text</th>\n",
       "      <th>num_all_caps</th>\n",
       "      <th>num_caps</th>\n",
       "      <th>num_words</th>\n",
       "      <th>sent_neg</th>\n",
       "      <th>sent_neu</th>\n",
       "      <th>sent_pos</th>\n",
       "      <th>sent_compound</th>\n",
       "      <th>text_embedding</th>\n",
       "      <th>keyword_embedding</th>\n",
       "    </tr>\n",
       "  </thead>\n",
       "  <tbody>\n",
       "    <tr>\n",
       "      <th>0</th>\n",
       "      <td>1</td>\n",
       "      <td>None</td>\n",
       "      <td>NaN</td>\n",
       "      <td>Our Deeds are the Reason of this #earthquake M...</td>\n",
       "      <td>1</td>\n",
       "      <td>[our, deeds, are, the, reason, of, this, #, ea...</td>\n",
       "      <td>-0.92</td>\n",
       "      <td>-0.565217</td>\n",
       "      <td>-0.200000</td>\n",
       "      <td>0.000</td>\n",
       "      <td>0.851</td>\n",
       "      <td>0.149</td>\n",
       "      <td>0.2732</td>\n",
       "      <td>[[0.0, 0.0, 0.0, 0.0, 0.0, 0.0, 0.0, 0.0, 0.0,...</td>\n",
       "      <td>[[0.0, 0.0, 0.0, 0.0, 0.0, 0.0, 0.0, 0.0, 0.0,...</td>\n",
       "    </tr>\n",
       "    <tr>\n",
       "      <th>1</th>\n",
       "      <td>4</td>\n",
       "      <td>None</td>\n",
       "      <td>NaN</td>\n",
       "      <td>Forest fire near La Ronge Sask. Canada</td>\n",
       "      <td>1</td>\n",
       "      <td>[forest, fire, near, la, ronge, sask, ., canada]</td>\n",
       "      <td>-1.00</td>\n",
       "      <td>-0.565217</td>\n",
       "      <td>-0.600000</td>\n",
       "      <td>0.286</td>\n",
       "      <td>0.714</td>\n",
       "      <td>0.000</td>\n",
       "      <td>-0.3400</td>\n",
       "      <td>[[0.0, 0.0, 0.0, 0.0, 0.0, 0.0, 0.0, 0.0, 0.0,...</td>\n",
       "      <td>[[0.0, 0.0, 0.0, 0.0, 0.0, 0.0, 0.0, 0.0, 0.0,...</td>\n",
       "    </tr>\n",
       "    <tr>\n",
       "      <th>2</th>\n",
       "      <td>5</td>\n",
       "      <td>None</td>\n",
       "      <td>NaN</td>\n",
       "      <td>All residents asked to 'shelter in place' are ...</td>\n",
       "      <td>1</td>\n",
       "      <td>[all, residents, asked, to, ', shelter, in, pl...</td>\n",
       "      <td>-1.00</td>\n",
       "      <td>-0.826087</td>\n",
       "      <td>0.400000</td>\n",
       "      <td>0.095</td>\n",
       "      <td>0.905</td>\n",
       "      <td>0.000</td>\n",
       "      <td>-0.2960</td>\n",
       "      <td>[[0.0, 0.0, 0.0, 0.0, 0.0, 0.0, 0.0, 0.0, 0.0,...</td>\n",
       "      <td>[[0.0, 0.0, 0.0, 0.0, 0.0, 0.0, 0.0, 0.0, 0.0,...</td>\n",
       "    </tr>\n",
       "    <tr>\n",
       "      <th>3</th>\n",
       "      <td>6</td>\n",
       "      <td>None</td>\n",
       "      <td>NaN</td>\n",
       "      <td>13,000 people receive #wildfires evacuation or...</td>\n",
       "      <td>1</td>\n",
       "      <td>[&lt;number&gt;, people, receive, #, wildfires, evac...</td>\n",
       "      <td>-1.00</td>\n",
       "      <td>-0.913043</td>\n",
       "      <td>-0.533333</td>\n",
       "      <td>0.000</td>\n",
       "      <td>1.000</td>\n",
       "      <td>0.000</td>\n",
       "      <td>0.0000</td>\n",
       "      <td>[[0.0, 0.0, 0.0, 0.0, 0.0, 0.0, 0.0, 0.0, 0.0,...</td>\n",
       "      <td>[[0.0, 0.0, 0.0, 0.0, 0.0, 0.0, 0.0, 0.0, 0.0,...</td>\n",
       "    </tr>\n",
       "    <tr>\n",
       "      <th>4</th>\n",
       "      <td>7</td>\n",
       "      <td>None</td>\n",
       "      <td>NaN</td>\n",
       "      <td>Just got sent this photo from Ruby #Alaska as ...</td>\n",
       "      <td>1</td>\n",
       "      <td>[just, got, sent, this, photo, from, ruby, #, ...</td>\n",
       "      <td>-1.00</td>\n",
       "      <td>-0.739130</td>\n",
       "      <td>0.000000</td>\n",
       "      <td>0.000</td>\n",
       "      <td>1.000</td>\n",
       "      <td>0.000</td>\n",
       "      <td>0.0000</td>\n",
       "      <td>[[0.0, 0.0, 0.0, 0.0, 0.0, 0.0, 0.0, 0.0, 0.0,...</td>\n",
       "      <td>[[0.0, 0.0, 0.0, 0.0, 0.0, 0.0, 0.0, 0.0, 0.0,...</td>\n",
       "    </tr>\n",
       "  </tbody>\n",
       "</table>\n",
       "</div>"
      ],
      "text/plain": [
       "   id keyword location                                               text  \\\n",
       "0   1    None      NaN  Our Deeds are the Reason of this #earthquake M...   \n",
       "1   4    None      NaN             Forest fire near La Ronge Sask. Canada   \n",
       "2   5    None      NaN  All residents asked to 'shelter in place' are ...   \n",
       "3   6    None      NaN  13,000 people receive #wildfires evacuation or...   \n",
       "4   7    None      NaN  Just got sent this photo from Ruby #Alaska as ...   \n",
       "\n",
       "   target                                      tok_norm_text  num_all_caps  \\\n",
       "0       1  [our, deeds, are, the, reason, of, this, #, ea...         -0.92   \n",
       "1       1   [forest, fire, near, la, ronge, sask, ., canada]         -1.00   \n",
       "2       1  [all, residents, asked, to, ', shelter, in, pl...         -1.00   \n",
       "3       1  [<number>, people, receive, #, wildfires, evac...         -1.00   \n",
       "4       1  [just, got, sent, this, photo, from, ruby, #, ...         -1.00   \n",
       "\n",
       "   num_caps  num_words  sent_neg  sent_neu  sent_pos  sent_compound  \\\n",
       "0 -0.565217  -0.200000     0.000     0.851     0.149         0.2732   \n",
       "1 -0.565217  -0.600000     0.286     0.714     0.000        -0.3400   \n",
       "2 -0.826087   0.400000     0.095     0.905     0.000        -0.2960   \n",
       "3 -0.913043  -0.533333     0.000     1.000     0.000         0.0000   \n",
       "4 -0.739130   0.000000     0.000     1.000     0.000         0.0000   \n",
       "\n",
       "                                      text_embedding  \\\n",
       "0  [[0.0, 0.0, 0.0, 0.0, 0.0, 0.0, 0.0, 0.0, 0.0,...   \n",
       "1  [[0.0, 0.0, 0.0, 0.0, 0.0, 0.0, 0.0, 0.0, 0.0,...   \n",
       "2  [[0.0, 0.0, 0.0, 0.0, 0.0, 0.0, 0.0, 0.0, 0.0,...   \n",
       "3  [[0.0, 0.0, 0.0, 0.0, 0.0, 0.0, 0.0, 0.0, 0.0,...   \n",
       "4  [[0.0, 0.0, 0.0, 0.0, 0.0, 0.0, 0.0, 0.0, 0.0,...   \n",
       "\n",
       "                                   keyword_embedding  \n",
       "0  [[0.0, 0.0, 0.0, 0.0, 0.0, 0.0, 0.0, 0.0, 0.0,...  \n",
       "1  [[0.0, 0.0, 0.0, 0.0, 0.0, 0.0, 0.0, 0.0, 0.0,...  \n",
       "2  [[0.0, 0.0, 0.0, 0.0, 0.0, 0.0, 0.0, 0.0, 0.0,...  \n",
       "3  [[0.0, 0.0, 0.0, 0.0, 0.0, 0.0, 0.0, 0.0, 0.0,...  \n",
       "4  [[0.0, 0.0, 0.0, 0.0, 0.0, 0.0, 0.0, 0.0, 0.0,...  "
      ]
     },
     "execution_count": 40,
     "metadata": {},
     "output_type": "execute_result"
    }
   ],
   "source": [
    "# Visualiza\n",
    "dados_treino.head()"
   ]
  },
  {
   "cell_type": "markdown",
   "metadata": {},
   "source": [
    "### Representação Embedding Para Todos os Recursos Escolhidos"
   ]
  },
  {
   "cell_type": "code",
   "execution_count": 41,
   "metadata": {},
   "outputs": [],
   "source": [
    "# Função que retorna um array numpy contendo valores únicos no comprimento seq_len\n",
    "def _single_values_repeat(seq_len, static_single_values):\n",
    "    output = static_single_values.reshape((1, len(static_single_values)))\n",
    "    output = np.repeat(output, seq_len, axis = 0)\n",
    "    return output"
   ]
  },
  {
   "cell_type": "code",
   "execution_count": 42,
   "metadata": {},
   "outputs": [],
   "source": [
    "# Retorna uma array numpy de stacked embedding vectors\n",
    "def _static_embedding_repeat(seq_len, static_embedding_values):    \n",
    "    horizontally_stacked = np.hstack(static_embedding_values)\n",
    "    output = np.repeat(horizontally_stacked, seq_len, axis = 0)\n",
    "    return output"
   ]
  },
  {
   "cell_type": "code",
   "execution_count": 43,
   "metadata": {},
   "outputs": [],
   "source": [
    "# Função que retorna as representações embedding de todos os atributos\n",
    "def concatenate_embeddings(df, \n",
    "                           embedding_model, \n",
    "                           seq_len, \n",
    "                           sequence_embedding_col, \n",
    "                           static_embedding_cols, \n",
    "                           static_singles_cols):\n",
    "    \n",
    "    # Dimensões do embedding\n",
    "    emb_dim = embedding_model.vector_size\n",
    "    \n",
    "    # Matriz de saída\n",
    "    output = np.zeros((len(df), seq_len, len(static_singles_cols) + len(static_embedding_cols) * emb_dim + emb_dim))\n",
    "    \n",
    "    # Loop\n",
    "    for idx, row in df.iterrows():\n",
    "        \n",
    "        single_vals = _single_values_repeat(seq_len, row[static_singles_cols].values)\n",
    "        static_emb_vals = _static_embedding_repeat(seq_len, row[static_embedding_cols])\n",
    "        seq_emb_vals = row[sequence_embedding_col]\n",
    "\n",
    "        # Stack embeddings e atributos\n",
    "        row_embedding = np.hstack((single_vals, static_emb_vals, seq_emb_vals))\n",
    "\n",
    "        output[idx, :, :] = row_embedding\n",
    "        \n",
    "    return output"
   ]
  },
  {
   "cell_type": "code",
   "execution_count": 44,
   "metadata": {},
   "outputs": [],
   "source": [
    "# Cria uma representação embedding final de todos os recursos escolhidos para treino\n",
    "embedding_matrix = concatenate_embeddings(df = dados_treino, \n",
    "                                          embedding_model = model_glove_twitter, \n",
    "                                          seq_len = sequence_max_length,\n",
    "                                          sequence_embedding_col = 'text_embedding',\n",
    "                                          static_embedding_cols = ['keyword_embedding'],\n",
    "                                          static_singles_cols = ['num_all_caps', \n",
    "                                                                 'num_caps', \n",
    "                                                                 'num_words', \n",
    "                                                                 'sent_neg', \n",
    "                                                                 'sent_neu', \n",
    "                                                                 'sent_pos', \n",
    "                                                                 'sent_compound'])"
   ]
  },
  {
   "cell_type": "code",
   "execution_count": 45,
   "metadata": {},
   "outputs": [
    {
     "data": {
      "text/plain": [
       "(7613, 30, 207)"
      ]
     },
     "execution_count": 45,
     "metadata": {},
     "output_type": "execute_result"
    }
   ],
   "source": [
    "# Shape\n",
    "embedding_matrix.shape"
   ]
  },
  {
   "cell_type": "markdown",
   "metadata": {},
   "source": [
    "## Construção do Modelo\n",
    "\n",
    "Implementação PyTorch de um Modelo Bi-Directional LSTM RNN"
   ]
  },
  {
   "cell_type": "code",
   "execution_count": 46,
   "metadata": {},
   "outputs": [],
   "source": [
    "# Algoritmo do Modelo BiLSTM que estende a classe nn.Module\n",
    "class BiLSTM(nn.Module):\n",
    "\n",
    "    # Método construtor\n",
    "    def __init__(self, embedding_dim, hidden_dim, num_layers, num_classes, batch_size, dropout, device):\n",
    "        super(BiLSTM, self).__init__()\n",
    "        \n",
    "        # Inicialização dos atributos\n",
    "        self.hidden_dim = hidden_dim\n",
    "        self.batch_size = batch_size\n",
    "        self.num_layers = num_layers\n",
    "\n",
    "        # Dropout para reduzir o overfitting\n",
    "        self.dropout = nn.Dropout(p = dropout)\n",
    "\n",
    "        # Modelo LSTM\n",
    "        self.lstm = nn.LSTM(input_size = embedding_dim, \n",
    "                            hidden_size = hidden_dim, \n",
    "                            num_layers = num_layers,\n",
    "                            batch_first = True, \n",
    "                            dropout = dropout, \n",
    "                            bidirectional = True)\n",
    "        \n",
    "        # Camada totalmente conectada\n",
    "        self.fc = nn.Linear(hidden_dim * 2, num_classes)\n",
    "        \n",
    "        # Device\n",
    "        self.device = device\n",
    "        \n",
    "        # Listas para avaliações e plot\n",
    "        self.train_loss = []\n",
    "        self.train_acc = []\n",
    "        self.val_loss = []\n",
    "        self.val_acc = []\n",
    "        \n",
    "        # Um atributo para manter os melhores pesos do modelo (usado para avaliação)\n",
    "        self.best_weights = deepcopy(self.state_dict())\n",
    "\n",
    "    # Camadas ocultas e células de estado LSTM\n",
    "    def _init_hidden(self, current_batch_size):\n",
    "        h0 = torch.zeros(self.num_layers * 2, current_batch_size, self.hidden_dim).to(self.device)\n",
    "        c0 = torch.zeros(self.num_layers * 2, current_batch_size, self.hidden_dim).to(self.device)\n",
    "        return h0, c0\n",
    "\n",
    "    # Forward Step\n",
    "    def forward(self, x):\n",
    "\n",
    "        # Forward LSTM\n",
    "        h, c = self._init_hidden(current_batch_size = x.size(0))\n",
    "        out, _ = self.lstm(x, (h, c))\n",
    "\n",
    "        # Dropout\n",
    "        out = self.dropout(out)\n",
    "\n",
    "        # Decode do estado oculto para o último passo de tempo\n",
    "        out = self.fc(out[:, -1, :])\n",
    "\n",
    "        return out\n",
    "    \n",
    "    # Previsões\n",
    "    def predict(self, x: torch.tensor):\n",
    "        class_predictions = self(x).data\n",
    "        _, predicted = torch.max(class_predictions, dim = 1)\n",
    "        return predicted\n",
    "\n",
    "    # Treinamento e avaliação com dados de validação\n",
    "    def _train_evaluate(self, X_train, y_train, X_val, y_val, criterion):\n",
    "\n",
    "        # Muda o modelo para modo de avaliação\n",
    "        self.eval()\n",
    "\n",
    "        # Calcula acurácia e perda nos dados de treino\n",
    "        epoch_train_acc = (self.predict(X_train) == y_train).sum().item() / y_train.shape[0]\n",
    "        epoch_train_loss = criterion(self(X_train), y_train).item()\n",
    "        self.train_acc.append(epoch_train_acc)\n",
    "        self.train_loss.append(epoch_train_loss)\n",
    "\n",
    "        # Calcula acurácia e perda nos dados de validação\n",
    "        if X_val is not None and y_val is not None:\n",
    "            epoch_val_acc = (self.predict(X_val) == y_val).sum().item() / y_val.shape[0]\n",
    "            epoch_val_loss = criterion(self(X_val), y_val).item()\n",
    "            self.val_acc.append(epoch_val_acc)\n",
    "            self.val_loss.append(epoch_val_loss)\n",
    "\n",
    "            # Retorna valores de acurácia e perda\n",
    "            return epoch_train_loss, epoch_train_acc, epoch_val_loss, epoch_val_acc\n",
    "\n",
    "        # Retorna valores de acurácia e perda se não houver dataset de validação\n",
    "        return epoch_train_loss, epoch_train_acc, None, None\n",
    "\n",
    "    # Retorna um dicionário com as melhores épocas\n",
    "    def best_epoch(self):\n",
    "        best_train_loss_epoch = np.argmin(np.array(self.train_loss)) + 1\n",
    "        best_train_acc_epoch = np.argmax(np.array(self.train_acc)) + 1\n",
    "\n",
    "        output = {'Epoch de Menor Erro em Treino': best_train_loss_epoch, \n",
    "                  'Epoch de Melhor Acurácia em Treino': best_train_acc_epoch}\n",
    "\n",
    "        if len(self.val_loss) > 0:\n",
    "            best_val_loss_epoch = np.argmin(np.array(self.val_loss))\n",
    "            best_val_acc_epoch = np.argmax(np.array(self.val_acc))\n",
    "\n",
    "            output.update({'Epoch de Menor Erro em Validação': best_val_loss_epoch, \n",
    "                           'Epoch de Melhor Acurácia em Validação': best_val_acc_epoch})\n",
    "\n",
    "        return output\n",
    "\n",
    "    # Retorna um dicionário que contém o número de parâmetros totais e treináveis.\n",
    "    def get_num_parameters(self):\n",
    "        total_params = sum(p.numel() for p in self.parameters())\n",
    "        trainable_params = sum(p.numel() for p in self.parameters() if p.requires_grad)\n",
    "        return {'total_parameters': total_params, 'trainable_parameters': trainable_params}\n",
    "\n",
    "    @staticmethod\n",
    "    def _print_progress(epoch, train_loss, train_acc, val_loss, val_acc, improved, verbose=False):\n",
    "\n",
    "        output = f'Epoch {str(epoch + 1).zfill(3)}:'\n",
    "        output += f'\\n\\t Erro em Treinamento: {str(train_loss)[:5]} | Acurácia: {str(train_acc)[:5]}.'\n",
    "\n",
    "        if val_loss is not None and val_acc is not None:\n",
    "            output += f'\\n\\t Erro em Validação: {str(val_loss)[:5]} | Acurácia: {str(val_acc)[:5]}.'\n",
    "\n",
    "        if improved:\n",
    "            output += f' Houve aprendizado!'\n",
    "\n",
    "        if verbose:\n",
    "            print(output)\n",
    "\n",
    "    # Método de treinamento\n",
    "    def fit(self, X_train, y_train, X_val, y_val, epoch_num, criterion, optimizer, verbose = False):\n",
    "\n",
    "        # Uma variável para determinar se deve atualizar os melhores pesos (e relatar o progresso)\n",
    "        best_acc = 0.0\n",
    "\n",
    "        # Divide o conjunto de dados em batches\n",
    "        X_train_tensor_batches = torch.split(X_train, self.batch_size)\n",
    "        y_train_tensor_batches = torch.split(y_train, self.batch_size)\n",
    "\n",
    "        # Loop\n",
    "        for epoch in range(epoch_num):\n",
    "\n",
    "            # Define o modelo para o modo de treinamento \n",
    "            # No final de cada época é definido para o modo de avaliação\n",
    "            self.train()\n",
    "\n",
    "            for i, (X_batch, y_batch) in enumerate(zip(X_train_tensor_batches, y_train_tensor_batches)):\n",
    "\n",
    "                # Forward pass\n",
    "                outputs = self(X_batch)\n",
    "                loss = criterion(outputs, y_batch)\n",
    "\n",
    "                # Backward e otimização\n",
    "                optimizer.zero_grad()\n",
    "                loss.backward()\n",
    "                optimizer.step()\n",
    "\n",
    "            # Calcula precisão e perda de treino e validação \n",
    "            train_loss, train_acc, val_loss, val_acc = self._train_evaluate(X_train, y_train, X_val, y_val, criterion)\n",
    "\n",
    "            # Um booleano para determinar a precisão correta a ser considerada no progresso (Validação do treinamento)\n",
    "            if X_val is not None and y_val is not None:\n",
    "                accuracy = val_acc\n",
    "            else:\n",
    "                accuracy = train_acc\n",
    "\n",
    "            # Se a precisão superar a melhor precisão anterior, imprime e atualiza a melhor precisão \n",
    "            # e os melhores pesos do modelo\n",
    "            if accuracy > best_acc:\n",
    "                self._print_progress(epoch, \n",
    "                                     train_loss, \n",
    "                                     train_acc, \n",
    "                                     val_loss, \n",
    "                                     val_acc, \n",
    "                                     improved = True, \n",
    "                                     verbose = verbose)\n",
    "                best_acc = accuracy\n",
    "                self.best_weights = deepcopy(self.state_dict())\n",
    "\n",
    "            # else, print\n",
    "            else:\n",
    "                self._print_progress(epoch, \n",
    "                                     train_loss, \n",
    "                                     train_acc, \n",
    "                                     val_loss, \n",
    "                                     val_acc, \n",
    "                                     improved = False, \n",
    "                                     verbose = verbose)\n",
    "\n",
    "        gc.collect()"
   ]
  },
  {
   "cell_type": "code",
   "execution_count": 47,
   "metadata": {},
   "outputs": [],
   "source": [
    "# Função para o Plot\n",
    "def plot_graphs(model):\n",
    "    plt.figure(figsize = (6, 12))\n",
    "\n",
    "    plt.subplot(311)\n",
    "    plt.title(\"Acurácia\")\n",
    "    plt.xlabel(\"Epochs\")\n",
    "    plt.ylabel(\"Acurácia\")\n",
    "    plt.plot(range(1, len(model.train_acc)+1), model.train_acc, label = \"Treino\")\n",
    "\n",
    "    plt.xticks(np.arange(0, len(model.train_acc)+1, 5))\n",
    "    plt.legend()\n",
    "\n",
    "    plt.subplot(312)\n",
    "    plt.title(\"Loss\")\n",
    "    plt.xlabel(\"Epochs\")\n",
    "    plt.ylabel(\"Loss\")\n",
    "    plt.plot(range(1, len(model.train_loss)+1), model.train_loss, label = \"Treino\")\n",
    "\n",
    "    plt.xticks(np.arange(0, len(model.train_acc)+1, 5))\n",
    "    plt.legend()\n",
    "\n",
    "    plt.tight_layout(pad=0.4, w_pad=0.5, h_pad=1.0)\n",
    "    plt.show()"
   ]
  },
  {
   "cell_type": "markdown",
   "metadata": {},
   "source": [
    "## Treinamento"
   ]
  },
  {
   "cell_type": "code",
   "execution_count": 111,
   "metadata": {},
   "outputs": [],
   "source": [
    "# Hiperparâmetros\n",
    "embedding_dim = embedding_matrix.shape[2]  \n",
    "hidden_size = 50  \n",
    "num_layers = 2  \n",
    "num_classes = 2  \n",
    "batch_size = 256  \n",
    "dropout = 0.3 \n",
    "num_epochs = 135\n",
    "learning_rate = 0.0015 \n",
    "weight_decay = 0.0005"
   ]
  },
  {
   "cell_type": "code",
   "execution_count": 112,
   "metadata": {},
   "outputs": [],
   "source": [
    "# Carrega os atributos\n",
    "X_treino = torch.from_numpy(embedding_matrix).float().to(device)"
   ]
  },
  {
   "cell_type": "code",
   "execution_count": 113,
   "metadata": {},
   "outputs": [],
   "source": [
    "# Carrega o label\n",
    "y_treino = torch.from_numpy(dados_treino['target'].values).long().to(device)"
   ]
  },
  {
   "cell_type": "code",
   "execution_count": 114,
   "metadata": {},
   "outputs": [],
   "source": [
    "# Cria o modelo\n",
    "modelo = BiLSTM(embedding_dim, hidden_size, num_layers, num_classes, batch_size, dropout, device).to(device)"
   ]
  },
  {
   "cell_type": "code",
   "execution_count": 115,
   "metadata": {},
   "outputs": [],
   "source": [
    "# Função de perda\n",
    "criterion = nn.CrossEntropyLoss()"
   ]
  },
  {
   "cell_type": "code",
   "execution_count": 116,
   "metadata": {},
   "outputs": [],
   "source": [
    "# Otimizador\n",
    "optimizer = torch.optim.Adam(modelo.parameters(), lr = learning_rate, weight_decay = weight_decay)"
   ]
  },
  {
   "cell_type": "code",
   "execution_count": 117,
   "metadata": {
    "scrolled": true
   },
   "outputs": [
    {
     "name": "stdout",
     "output_type": "stream",
     "text": [
      "Epoch 001:\n",
      "\t Erro em Treinamento: 0.589 | Acurácia: 0.717. Houve aprendizado!\n",
      "Epoch 002:\n",
      "\t Erro em Treinamento: 0.509 | Acurácia: 0.756. Houve aprendizado!\n",
      "Epoch 003:\n",
      "\t Erro em Treinamento: 0.470 | Acurácia: 0.783. Houve aprendizado!\n",
      "Epoch 004:\n",
      "\t Erro em Treinamento: 0.456 | Acurácia: 0.796. Houve aprendizado!\n",
      "Epoch 005:\n",
      "\t Erro em Treinamento: 0.447 | Acurácia: 0.803. Houve aprendizado!\n",
      "Epoch 006:\n",
      "\t Erro em Treinamento: 0.432 | Acurácia: 0.806. Houve aprendizado!\n",
      "Epoch 007:\n",
      "\t Erro em Treinamento: 0.429 | Acurácia: 0.809. Houve aprendizado!\n",
      "Epoch 008:\n",
      "\t Erro em Treinamento: 0.437 | Acurácia: 0.801.\n",
      "Epoch 009:\n",
      "\t Erro em Treinamento: 0.424 | Acurácia: 0.813. Houve aprendizado!\n",
      "Epoch 010:\n",
      "\t Erro em Treinamento: 0.440 | Acurácia: 0.803.\n",
      "Epoch 011:\n",
      "\t Erro em Treinamento: 0.441 | Acurácia: 0.807.\n",
      "Epoch 012:\n",
      "\t Erro em Treinamento: 0.421 | Acurácia: 0.818. Houve aprendizado!\n",
      "Epoch 013:\n",
      "\t Erro em Treinamento: 0.417 | Acurácia: 0.821. Houve aprendizado!\n",
      "Epoch 014:\n",
      "\t Erro em Treinamento: 0.426 | Acurácia: 0.820.\n",
      "Epoch 015:\n",
      "\t Erro em Treinamento: 0.426 | Acurácia: 0.815.\n",
      "Epoch 016:\n",
      "\t Erro em Treinamento: 0.427 | Acurácia: 0.812.\n",
      "Epoch 017:\n",
      "\t Erro em Treinamento: 0.419 | Acurácia: 0.818.\n",
      "Epoch 018:\n",
      "\t Erro em Treinamento: 0.407 | Acurácia: 0.827. Houve aprendizado!\n",
      "Epoch 019:\n",
      "\t Erro em Treinamento: 0.427 | Acurácia: 0.815.\n",
      "Epoch 020:\n",
      "\t Erro em Treinamento: 0.432 | Acurácia: 0.818.\n",
      "Epoch 021:\n",
      "\t Erro em Treinamento: 0.425 | Acurácia: 0.813.\n",
      "Epoch 022:\n",
      "\t Erro em Treinamento: 0.420 | Acurácia: 0.812.\n",
      "Epoch 023:\n",
      "\t Erro em Treinamento: 0.403 | Acurácia: 0.827.\n",
      "Epoch 024:\n",
      "\t Erro em Treinamento: 0.394 | Acurácia: 0.830. Houve aprendizado!\n",
      "Epoch 025:\n",
      "\t Erro em Treinamento: 0.397 | Acurácia: 0.831. Houve aprendizado!\n",
      "Epoch 026:\n",
      "\t Erro em Treinamento: 0.411 | Acurácia: 0.815.\n",
      "Epoch 027:\n",
      "\t Erro em Treinamento: 0.433 | Acurácia: 0.796.\n",
      "Epoch 028:\n",
      "\t Erro em Treinamento: 0.411 | Acurácia: 0.816.\n",
      "Epoch 029:\n",
      "\t Erro em Treinamento: 0.386 | Acurácia: 0.834. Houve aprendizado!\n",
      "Epoch 030:\n",
      "\t Erro em Treinamento: 0.384 | Acurácia: 0.834. Houve aprendizado!\n",
      "Epoch 031:\n",
      "\t Erro em Treinamento: 0.393 | Acurácia: 0.826.\n",
      "Epoch 032:\n",
      "\t Erro em Treinamento: 0.433 | Acurácia: 0.793.\n",
      "Epoch 033:\n",
      "\t Erro em Treinamento: 0.433 | Acurácia: 0.806.\n",
      "Epoch 034:\n",
      "\t Erro em Treinamento: 0.374 | Acurácia: 0.841. Houve aprendizado!\n",
      "Epoch 035:\n",
      "\t Erro em Treinamento: 0.373 | Acurácia: 0.838.\n",
      "Epoch 036:\n",
      "\t Erro em Treinamento: 0.377 | Acurácia: 0.836.\n",
      "Epoch 037:\n",
      "\t Erro em Treinamento: 0.395 | Acurácia: 0.820.\n",
      "Epoch 038:\n",
      "\t Erro em Treinamento: 0.422 | Acurácia: 0.809.\n",
      "Epoch 039:\n",
      "\t Erro em Treinamento: 0.399 | Acurácia: 0.820.\n",
      "Epoch 040:\n",
      "\t Erro em Treinamento: 0.370 | Acurácia: 0.839.\n",
      "Epoch 041:\n",
      "\t Erro em Treinamento: 0.363 | Acurácia: 0.842. Houve aprendizado!\n",
      "Epoch 042:\n",
      "\t Erro em Treinamento: 0.361 | Acurácia: 0.842. Houve aprendizado!\n",
      "Epoch 043:\n",
      "\t Erro em Treinamento: 0.387 | Acurácia: 0.825.\n",
      "Epoch 044:\n",
      "\t Erro em Treinamento: 0.418 | Acurácia: 0.811.\n",
      "Epoch 045:\n",
      "\t Erro em Treinamento: 0.404 | Acurácia: 0.820.\n",
      "Epoch 046:\n",
      "\t Erro em Treinamento: 0.376 | Acurácia: 0.831.\n",
      "Epoch 047:\n",
      "\t Erro em Treinamento: 0.358 | Acurácia: 0.845. Houve aprendizado!\n",
      "Epoch 048:\n",
      "\t Erro em Treinamento: 0.361 | Acurácia: 0.843.\n",
      "Epoch 049:\n",
      "\t Erro em Treinamento: 0.366 | Acurácia: 0.842.\n",
      "Epoch 050:\n",
      "\t Erro em Treinamento: 0.361 | Acurácia: 0.844.\n",
      "Epoch 051:\n",
      "\t Erro em Treinamento: 0.371 | Acurácia: 0.838.\n",
      "Epoch 052:\n",
      "\t Erro em Treinamento: 0.428 | Acurácia: 0.801.\n",
      "Epoch 053:\n",
      "\t Erro em Treinamento: 0.456 | Acurácia: 0.786.\n",
      "Epoch 054:\n",
      "\t Erro em Treinamento: 0.381 | Acurácia: 0.836.\n",
      "Epoch 055:\n",
      "\t Erro em Treinamento: 0.353 | Acurácia: 0.849. Houve aprendizado!\n",
      "Epoch 056:\n",
      "\t Erro em Treinamento: 0.363 | Acurácia: 0.842.\n",
      "Epoch 057:\n",
      "\t Erro em Treinamento: 0.413 | Acurácia: 0.818.\n",
      "Epoch 058:\n",
      "\t Erro em Treinamento: 0.442 | Acurácia: 0.806.\n",
      "Epoch 059:\n",
      "\t Erro em Treinamento: 0.351 | Acurácia: 0.851. Houve aprendizado!\n",
      "Epoch 060:\n",
      "\t Erro em Treinamento: 0.338 | Acurácia: 0.855. Houve aprendizado!\n",
      "Epoch 061:\n",
      "\t Erro em Treinamento: 0.346 | Acurácia: 0.849.\n",
      "Epoch 062:\n",
      "\t Erro em Treinamento: 0.366 | Acurácia: 0.836.\n",
      "Epoch 063:\n",
      "\t Erro em Treinamento: 0.430 | Acurácia: 0.814.\n",
      "Epoch 064:\n",
      "\t Erro em Treinamento: 0.402 | Acurácia: 0.823.\n",
      "Epoch 065:\n",
      "\t Erro em Treinamento: 0.345 | Acurácia: 0.849.\n",
      "Epoch 066:\n",
      "\t Erro em Treinamento: 0.353 | Acurácia: 0.849.\n",
      "Epoch 067:\n",
      "\t Erro em Treinamento: 0.334 | Acurácia: 0.857. Houve aprendizado!\n",
      "Epoch 068:\n",
      "\t Erro em Treinamento: 0.382 | Acurácia: 0.831.\n",
      "Epoch 069:\n",
      "\t Erro em Treinamento: 0.354 | Acurácia: 0.847.\n",
      "Epoch 070:\n",
      "\t Erro em Treinamento: 0.322 | Acurácia: 0.860. Houve aprendizado!\n",
      "Epoch 071:\n",
      "\t Erro em Treinamento: 0.320 | Acurácia: 0.857.\n",
      "Epoch 072:\n",
      "\t Erro em Treinamento: 0.348 | Acurácia: 0.848.\n",
      "Epoch 073:\n",
      "\t Erro em Treinamento: 0.340 | Acurácia: 0.852.\n",
      "Epoch 074:\n",
      "\t Erro em Treinamento: 0.322 | Acurácia: 0.863. Houve aprendizado!\n",
      "Epoch 075:\n",
      "\t Erro em Treinamento: 0.321 | Acurácia: 0.860.\n",
      "Epoch 076:\n",
      "\t Erro em Treinamento: 0.316 | Acurácia: 0.864. Houve aprendizado!\n",
      "Epoch 077:\n",
      "\t Erro em Treinamento: 0.324 | Acurácia: 0.861.\n",
      "Epoch 078:\n",
      "\t Erro em Treinamento: 0.331 | Acurácia: 0.853.\n",
      "Epoch 079:\n",
      "\t Erro em Treinamento: 0.340 | Acurácia: 0.853.\n",
      "Epoch 080:\n",
      "\t Erro em Treinamento: 0.334 | Acurácia: 0.852.\n",
      "Epoch 081:\n",
      "\t Erro em Treinamento: 0.381 | Acurácia: 0.825.\n",
      "Epoch 082:\n",
      "\t Erro em Treinamento: 0.383 | Acurácia: 0.825.\n",
      "Epoch 083:\n",
      "\t Erro em Treinamento: 0.331 | Acurácia: 0.859.\n",
      "Epoch 084:\n",
      "\t Erro em Treinamento: 0.329 | Acurácia: 0.863.\n",
      "Epoch 085:\n",
      "\t Erro em Treinamento: 0.343 | Acurácia: 0.848.\n",
      "Epoch 086:\n",
      "\t Erro em Treinamento: 0.357 | Acurácia: 0.836.\n",
      "Epoch 087:\n",
      "\t Erro em Treinamento: 0.335 | Acurácia: 0.849.\n",
      "Epoch 088:\n",
      "\t Erro em Treinamento: 0.328 | Acurácia: 0.855.\n",
      "Epoch 089:\n",
      "\t Erro em Treinamento: 0.333 | Acurácia: 0.853.\n",
      "Epoch 090:\n",
      "\t Erro em Treinamento: 0.338 | Acurácia: 0.846.\n",
      "Epoch 091:\n",
      "\t Erro em Treinamento: 0.319 | Acurácia: 0.860.\n",
      "Epoch 092:\n",
      "\t Erro em Treinamento: 0.295 | Acurácia: 0.871. Houve aprendizado!\n",
      "Epoch 093:\n",
      "\t Erro em Treinamento: 0.306 | Acurácia: 0.866.\n",
      "Epoch 094:\n",
      "\t Erro em Treinamento: 0.321 | Acurácia: 0.862.\n",
      "Epoch 095:\n",
      "\t Erro em Treinamento: 0.318 | Acurácia: 0.868.\n",
      "Epoch 096:\n",
      "\t Erro em Treinamento: 0.291 | Acurácia: 0.877. Houve aprendizado!\n",
      "Epoch 097:\n",
      "\t Erro em Treinamento: 0.311 | Acurácia: 0.865.\n",
      "Epoch 098:\n",
      "\t Erro em Treinamento: 0.305 | Acurácia: 0.869.\n",
      "Epoch 099:\n",
      "\t Erro em Treinamento: 0.284 | Acurácia: 0.876.\n",
      "Epoch 100:\n",
      "\t Erro em Treinamento: 0.272 | Acurácia: 0.884. Houve aprendizado!\n",
      "Epoch 101:\n",
      "\t Erro em Treinamento: 0.265 | Acurácia: 0.884.\n",
      "Epoch 102:\n",
      "\t Erro em Treinamento: 0.301 | Acurácia: 0.878.\n",
      "Epoch 103:\n",
      "\t Erro em Treinamento: 0.268 | Acurácia: 0.891. Houve aprendizado!\n",
      "Epoch 104:\n",
      "\t Erro em Treinamento: 0.274 | Acurácia: 0.881.\n",
      "Epoch 105:\n",
      "\t Erro em Treinamento: 0.288 | Acurácia: 0.873.\n",
      "Epoch 106:\n",
      "\t Erro em Treinamento: 0.281 | Acurácia: 0.879.\n",
      "Epoch 107:\n",
      "\t Erro em Treinamento: 0.270 | Acurácia: 0.888.\n",
      "Epoch 108:\n",
      "\t Erro em Treinamento: 0.278 | Acurácia: 0.883.\n",
      "Epoch 109:\n",
      "\t Erro em Treinamento: 0.276 | Acurácia: 0.882.\n",
      "Epoch 110:\n",
      "\t Erro em Treinamento: 0.300 | Acurácia: 0.870.\n",
      "Epoch 111:\n",
      "\t Erro em Treinamento: 0.301 | Acurácia: 0.867.\n",
      "Epoch 112:\n",
      "\t Erro em Treinamento: 0.278 | Acurácia: 0.882.\n",
      "Epoch 113:\n",
      "\t Erro em Treinamento: 0.279 | Acurácia: 0.878.\n",
      "Epoch 114:\n",
      "\t Erro em Treinamento: 0.313 | Acurácia: 0.858.\n",
      "Epoch 115:\n",
      "\t Erro em Treinamento: 0.303 | Acurácia: 0.869.\n",
      "Epoch 116:\n",
      "\t Erro em Treinamento: 0.294 | Acurácia: 0.874.\n",
      "Epoch 117:\n",
      "\t Erro em Treinamento: 0.289 | Acurácia: 0.878.\n",
      "Epoch 118:\n",
      "\t Erro em Treinamento: 0.327 | Acurácia: 0.854.\n",
      "Epoch 119:\n",
      "\t Erro em Treinamento: 0.344 | Acurácia: 0.841.\n",
      "Epoch 120:\n",
      "\t Erro em Treinamento: 0.258 | Acurácia: 0.891.\n",
      "Epoch 121:\n",
      "\t Erro em Treinamento: 0.244 | Acurácia: 0.901. Houve aprendizado!\n",
      "Epoch 122:\n",
      "\t Erro em Treinamento: 0.270 | Acurácia: 0.895.\n",
      "Epoch 123:\n",
      "\t Erro em Treinamento: 0.268 | Acurácia: 0.891.\n",
      "Epoch 124:\n",
      "\t Erro em Treinamento: 0.265 | Acurácia: 0.888.\n",
      "Epoch 125:\n",
      "\t Erro em Treinamento: 0.233 | Acurácia: 0.904. Houve aprendizado!\n",
      "Epoch 126:\n",
      "\t Erro em Treinamento: 0.220 | Acurácia: 0.909. Houve aprendizado!\n",
      "Epoch 127:\n",
      "\t Erro em Treinamento: 0.236 | Acurácia: 0.902.\n",
      "Epoch 128:\n",
      "\t Erro em Treinamento: 0.246 | Acurácia: 0.897.\n",
      "Epoch 129:\n",
      "\t Erro em Treinamento: 0.201 | Acurácia: 0.916. Houve aprendizado!\n"
     ]
    },
    {
     "name": "stdout",
     "output_type": "stream",
     "text": [
      "Epoch 130:\n",
      "\t Erro em Treinamento: 0.216 | Acurácia: 0.912.\n",
      "Epoch 131:\n",
      "\t Erro em Treinamento: 0.201 | Acurácia: 0.921. Houve aprendizado!\n",
      "Epoch 132:\n",
      "\t Erro em Treinamento: 0.292 | Acurácia: 0.864.\n",
      "Epoch 133:\n",
      "\t Erro em Treinamento: 0.221 | Acurácia: 0.911.\n",
      "Epoch 134:\n",
      "\t Erro em Treinamento: 0.222 | Acurácia: 0.910.\n",
      "Epoch 135:\n",
      "\t Erro em Treinamento: 0.211 | Acurácia: 0.914.\n"
     ]
    }
   ],
   "source": [
    "# Treina o modelo\n",
    "modelo.fit(X_train = X_treino, \n",
    "           y_train = y_treino, \n",
    "           X_val = None, \n",
    "           y_val = None,\n",
    "           epoch_num = num_epochs, \n",
    "           criterion = criterion, \n",
    "           optimizer = optimizer, \n",
    "           verbose = True)"
   ]
  },
  {
   "cell_type": "code",
   "execution_count": 118,
   "metadata": {},
   "outputs": [
    {
     "data": {
      "image/png": "[encoded data removed]",
      "text/plain": [
       "<Figure size 432x864 with 2 Axes>"
      ]
     },
     "metadata": {
      "needs_background": "light"
     },
     "output_type": "display_data"
    }
   ],
   "source": [
    "# Plot\n",
    "plot_graphs(modelo)"
   ]
  },
  {
   "cell_type": "markdown",
   "metadata": {},
   "source": [
    "## Fazendo Previsões"
   ]
  },
  {
   "cell_type": "markdown",
   "metadata": {},
   "source": [
    "O mesmo processamento aplicado aos dados de treino deve ser aplicado aos dados de teste."
   ]
  },
  {
   "cell_type": "code",
   "execution_count": 119,
   "metadata": {},
   "outputs": [
    {
     "data": {
      "text/html": [
       "<div>\n",
       "<style scoped>\n",
       "    .dataframe tbody tr th:only-of-type {\n",
       "        vertical-align: middle;\n",
       "    }\n",
       "\n",
       "    .dataframe tbody tr th {\n",
       "        vertical-align: top;\n",
       "    }\n",
       "\n",
       "    .dataframe thead th {\n",
       "        text-align: right;\n",
       "    }\n",
       "</style>\n",
       "<table border=\"1\" class=\"dataframe\">\n",
       "  <thead>\n",
       "    <tr style=\"text-align: right;\">\n",
       "      <th></th>\n",
       "      <th>id</th>\n",
       "      <th>keyword</th>\n",
       "      <th>location</th>\n",
       "      <th>text</th>\n",
       "    </tr>\n",
       "  </thead>\n",
       "  <tbody>\n",
       "    <tr>\n",
       "      <th>0</th>\n",
       "      <td>0</td>\n",
       "      <td>NaN</td>\n",
       "      <td>NaN</td>\n",
       "      <td>Just happened a terrible car crash</td>\n",
       "    </tr>\n",
       "    <tr>\n",
       "      <th>1</th>\n",
       "      <td>2</td>\n",
       "      <td>NaN</td>\n",
       "      <td>NaN</td>\n",
       "      <td>Heard about #earthquake is different cities, s...</td>\n",
       "    </tr>\n",
       "    <tr>\n",
       "      <th>2</th>\n",
       "      <td>3</td>\n",
       "      <td>NaN</td>\n",
       "      <td>NaN</td>\n",
       "      <td>there is a forest fire at spot pond, geese are...</td>\n",
       "    </tr>\n",
       "    <tr>\n",
       "      <th>3</th>\n",
       "      <td>9</td>\n",
       "      <td>NaN</td>\n",
       "      <td>NaN</td>\n",
       "      <td>Apocalypse lighting. #Spokane #wildfires</td>\n",
       "    </tr>\n",
       "    <tr>\n",
       "      <th>4</th>\n",
       "      <td>11</td>\n",
       "      <td>NaN</td>\n",
       "      <td>NaN</td>\n",
       "      <td>Typhoon Soudelor kills 28 in China and Taiwan</td>\n",
       "    </tr>\n",
       "  </tbody>\n",
       "</table>\n",
       "</div>"
      ],
      "text/plain": [
       "   id keyword location                                               text\n",
       "0   0     NaN      NaN                 Just happened a terrible car crash\n",
       "1   2     NaN      NaN  Heard about #earthquake is different cities, s...\n",
       "2   3     NaN      NaN  there is a forest fire at spot pond, geese are...\n",
       "3   9     NaN      NaN           Apocalypse lighting. #Spokane #wildfires\n",
       "4  11     NaN      NaN      Typhoon Soudelor kills 28 in China and Taiwan"
      ]
     },
     "execution_count": 119,
     "metadata": {},
     "output_type": "execute_result"
    }
   ],
   "source": [
    "# Carrega os dados de teste\n",
    "dados_teste = pd.read_csv('dados/dados_teste.csv')\n",
    "dados_teste.head()"
   ]
  },
  {
   "cell_type": "code",
   "execution_count": 120,
   "metadata": {},
   "outputs": [],
   "source": [
    "# Normaliza e tokeniza o texto\n",
    "dados_teste['tok_norm_text'] = [preprocessa_texto(tokenizer, text) for text in dados_teste['text']]"
   ]
  },
  {
   "cell_type": "code",
   "execution_count": 121,
   "metadata": {},
   "outputs": [
    {
     "name": "stderr",
     "output_type": "stream",
     "text": [
      "C:\\Users\\Rodrigo\\AppData\\Local\\Temp/ipykernel_12272/3794355494.py:5: DeprecationWarning: `np.float` is a deprecated alias for the builtin `float`. To silence this warning, use `float` by itself. Doing this will not modify any behavior and is safe. If you specifically wanted the numpy scalar type, use `np.float64` here.\n",
      "Deprecated in NumPy 1.20; for more details and guidance: https://numpy.org/devdocs/release/1.20.0-notes.html#deprecations\n",
      "  if type(keyword) == np.float and np.isnan(keyword):\n"
     ]
    }
   ],
   "source": [
    "# Pré-processa as keywords\n",
    "dados_teste['keyword'] = dados_teste['keyword'].apply(preprocessa_keyword)"
   ]
  },
  {
   "cell_type": "code",
   "execution_count": 122,
   "metadata": {},
   "outputs": [],
   "source": [
    "# Extração de atributos\n",
    "dados_teste['num_all_caps'] = dados_teste['text'].apply(count_all_caps)\n",
    "dados_teste['num_caps'] = dados_teste['text'].apply(count_capitalized)\n",
    "dados_teste['num_words'] = dados_teste['text'].apply(count_words)"
   ]
  },
  {
   "cell_type": "code",
   "execution_count": 123,
   "metadata": {},
   "outputs": [],
   "source": [
    "# Padroniza os dados de teste da mesma forma que fizemos com dados de treino\n",
    "dados_teste[columns_to_scale] = scaler.transform(dados_teste[columns_to_scale])"
   ]
  },
  {
   "cell_type": "code",
   "execution_count": 124,
   "metadata": {},
   "outputs": [],
   "source": [
    "# Analisador de sentimentos\n",
    "sentiment_analyze_df(dados_teste, 'tok_norm_text')"
   ]
  },
  {
   "cell_type": "code",
   "execution_count": 125,
   "metadata": {},
   "outputs": [],
   "source": [
    "# Text embedding\n",
    "dados_teste['text_embedding'] = [embedding_preprocess(embedding_model = model_glove_twitter, \n",
    "                                                      use_norm = True, \n",
    "                                                      seq_len = sequence_max_length, \n",
    "                                                      tokenized_text = text) \n",
    "                                 for text in dados_teste['tok_norm_text']]"
   ]
  },
  {
   "cell_type": "code",
   "execution_count": 126,
   "metadata": {},
   "outputs": [],
   "source": [
    "# Keyword embedding\n",
    "dados_teste['keyword_embedding'] = [keyword_to_avg_vector(embedding_model = model_glove_twitter, \n",
    "                                                          use_norm = True, \n",
    "                                                          tokenized_keyword = keyword) \n",
    "                                    for keyword in dados_teste['keyword']]"
   ]
  },
  {
   "cell_type": "code",
   "execution_count": 127,
   "metadata": {
    "scrolled": true
   },
   "outputs": [
    {
     "data": {
      "text/html": [
       "<div>\n",
       "<style scoped>\n",
       "    .dataframe tbody tr th:only-of-type {\n",
       "        vertical-align: middle;\n",
       "    }\n",
       "\n",
       "    .dataframe tbody tr th {\n",
       "        vertical-align: top;\n",
       "    }\n",
       "\n",
       "    .dataframe thead th {\n",
       "        text-align: right;\n",
       "    }\n",
       "</style>\n",
       "<table border=\"1\" class=\"dataframe\">\n",
       "  <thead>\n",
       "    <tr style=\"text-align: right;\">\n",
       "      <th></th>\n",
       "      <th>id</th>\n",
       "      <th>keyword</th>\n",
       "      <th>location</th>\n",
       "      <th>text</th>\n",
       "      <th>tok_norm_text</th>\n",
       "      <th>num_all_caps</th>\n",
       "      <th>num_caps</th>\n",
       "      <th>num_words</th>\n",
       "      <th>sent_neg</th>\n",
       "      <th>sent_neu</th>\n",
       "      <th>sent_pos</th>\n",
       "      <th>sent_compound</th>\n",
       "      <th>text_embedding</th>\n",
       "      <th>keyword_embedding</th>\n",
       "    </tr>\n",
       "  </thead>\n",
       "  <tbody>\n",
       "    <tr>\n",
       "      <th>0</th>\n",
       "      <td>0</td>\n",
       "      <td>None</td>\n",
       "      <td>NaN</td>\n",
       "      <td>Just happened a terrible car crash</td>\n",
       "      <td>[just, happened, a, terrible, car, crash]</td>\n",
       "      <td>-1.00</td>\n",
       "      <td>-0.913043</td>\n",
       "      <td>-0.666667</td>\n",
       "      <td>0.659</td>\n",
       "      <td>0.341</td>\n",
       "      <td>0.000</td>\n",
       "      <td>-0.7003</td>\n",
       "      <td>[[0.0, 0.0, 0.0, 0.0, 0.0, 0.0, 0.0, 0.0, 0.0,...</td>\n",
       "      <td>[[0.0, 0.0, 0.0, 0.0, 0.0, 0.0, 0.0, 0.0, 0.0,...</td>\n",
       "    </tr>\n",
       "    <tr>\n",
       "      <th>1</th>\n",
       "      <td>2</td>\n",
       "      <td>None</td>\n",
       "      <td>NaN</td>\n",
       "      <td>Heard about #earthquake is different cities, s...</td>\n",
       "      <td>[heard, about, #, earthquake, is, different, c...</td>\n",
       "      <td>-1.00</td>\n",
       "      <td>-0.913043</td>\n",
       "      <td>-0.466667</td>\n",
       "      <td>0.000</td>\n",
       "      <td>0.734</td>\n",
       "      <td>0.266</td>\n",
       "      <td>0.4404</td>\n",
       "      <td>[[0.0, 0.0, 0.0, 0.0, 0.0, 0.0, 0.0, 0.0, 0.0,...</td>\n",
       "      <td>[[0.0, 0.0, 0.0, 0.0, 0.0, 0.0, 0.0, 0.0, 0.0,...</td>\n",
       "    </tr>\n",
       "    <tr>\n",
       "      <th>2</th>\n",
       "      <td>3</td>\n",
       "      <td>None</td>\n",
       "      <td>NaN</td>\n",
       "      <td>there is a forest fire at spot pond, geese are...</td>\n",
       "      <td>[there, is, a, forest, fire, at, spot, pond, ,...</td>\n",
       "      <td>-0.92</td>\n",
       "      <td>-0.913043</td>\n",
       "      <td>0.200000</td>\n",
       "      <td>0.251</td>\n",
       "      <td>0.749</td>\n",
       "      <td>0.000</td>\n",
       "      <td>-0.6159</td>\n",
       "      <td>[[0.0, 0.0, 0.0, 0.0, 0.0, 0.0, 0.0, 0.0, 0.0,...</td>\n",
       "      <td>[[0.0, 0.0, 0.0, 0.0, 0.0, 0.0, 0.0, 0.0, 0.0,...</td>\n",
       "    </tr>\n",
       "    <tr>\n",
       "      <th>3</th>\n",
       "      <td>9</td>\n",
       "      <td>None</td>\n",
       "      <td>NaN</td>\n",
       "      <td>Apocalypse lighting. #Spokane #wildfires</td>\n",
       "      <td>[apocalypse, lighting, ., #, spokane, #, wildf...</td>\n",
       "      <td>-1.00</td>\n",
       "      <td>-0.826087</td>\n",
       "      <td>-0.800000</td>\n",
       "      <td>0.000</td>\n",
       "      <td>1.000</td>\n",
       "      <td>0.000</td>\n",
       "      <td>0.0000</td>\n",
       "      <td>[[0.0, 0.0, 0.0, 0.0, 0.0, 0.0, 0.0, 0.0, 0.0,...</td>\n",
       "      <td>[[0.0, 0.0, 0.0, 0.0, 0.0, 0.0, 0.0, 0.0, 0.0,...</td>\n",
       "    </tr>\n",
       "    <tr>\n",
       "      <th>4</th>\n",
       "      <td>11</td>\n",
       "      <td>None</td>\n",
       "      <td>NaN</td>\n",
       "      <td>Typhoon Soudelor kills 28 in China and Taiwan</td>\n",
       "      <td>[typhoon, soudelor, kills, &lt;number&gt;, in, china...</td>\n",
       "      <td>-1.00</td>\n",
       "      <td>-0.652174</td>\n",
       "      <td>-0.533333</td>\n",
       "      <td>0.333</td>\n",
       "      <td>0.667</td>\n",
       "      <td>0.000</td>\n",
       "      <td>-0.5423</td>\n",
       "      <td>[[0.0, 0.0, 0.0, 0.0, 0.0, 0.0, 0.0, 0.0, 0.0,...</td>\n",
       "      <td>[[0.0, 0.0, 0.0, 0.0, 0.0, 0.0, 0.0, 0.0, 0.0,...</td>\n",
       "    </tr>\n",
       "  </tbody>\n",
       "</table>\n",
       "</div>"
      ],
      "text/plain": [
       "   id keyword location                                               text  \\\n",
       "0   0    None      NaN                 Just happened a terrible car crash   \n",
       "1   2    None      NaN  Heard about #earthquake is different cities, s...   \n",
       "2   3    None      NaN  there is a forest fire at spot pond, geese are...   \n",
       "3   9    None      NaN           Apocalypse lighting. #Spokane #wildfires   \n",
       "4  11    None      NaN      Typhoon Soudelor kills 28 in China and Taiwan   \n",
       "\n",
       "                                       tok_norm_text  num_all_caps  num_caps  \\\n",
       "0          [just, happened, a, terrible, car, crash]         -1.00 -0.913043   \n",
       "1  [heard, about, #, earthquake, is, different, c...         -1.00 -0.913043   \n",
       "2  [there, is, a, forest, fire, at, spot, pond, ,...         -0.92 -0.913043   \n",
       "3  [apocalypse, lighting, ., #, spokane, #, wildf...         -1.00 -0.826087   \n",
       "4  [typhoon, soudelor, kills, <number>, in, china...         -1.00 -0.652174   \n",
       "\n",
       "   num_words  sent_neg  sent_neu  sent_pos  sent_compound  \\\n",
       "0  -0.666667     0.659     0.341     0.000        -0.7003   \n",
       "1  -0.466667     0.000     0.734     0.266         0.4404   \n",
       "2   0.200000     0.251     0.749     0.000        -0.6159   \n",
       "3  -0.800000     0.000     1.000     0.000         0.0000   \n",
       "4  -0.533333     0.333     0.667     0.000        -0.5423   \n",
       "\n",
       "                                      text_embedding  \\\n",
       "0  [[0.0, 0.0, 0.0, 0.0, 0.0, 0.0, 0.0, 0.0, 0.0,...   \n",
       "1  [[0.0, 0.0, 0.0, 0.0, 0.0, 0.0, 0.0, 0.0, 0.0,...   \n",
       "2  [[0.0, 0.0, 0.0, 0.0, 0.0, 0.0, 0.0, 0.0, 0.0,...   \n",
       "3  [[0.0, 0.0, 0.0, 0.0, 0.0, 0.0, 0.0, 0.0, 0.0,...   \n",
       "4  [[0.0, 0.0, 0.0, 0.0, 0.0, 0.0, 0.0, 0.0, 0.0,...   \n",
       "\n",
       "                                   keyword_embedding  \n",
       "0  [[0.0, 0.0, 0.0, 0.0, 0.0, 0.0, 0.0, 0.0, 0.0,...  \n",
       "1  [[0.0, 0.0, 0.0, 0.0, 0.0, 0.0, 0.0, 0.0, 0.0,...  \n",
       "2  [[0.0, 0.0, 0.0, 0.0, 0.0, 0.0, 0.0, 0.0, 0.0,...  \n",
       "3  [[0.0, 0.0, 0.0, 0.0, 0.0, 0.0, 0.0, 0.0, 0.0,...  \n",
       "4  [[0.0, 0.0, 0.0, 0.0, 0.0, 0.0, 0.0, 0.0, 0.0,...  "
      ]
     },
     "execution_count": 127,
     "metadata": {},
     "output_type": "execute_result"
    }
   ],
   "source": [
    "# Visualiza\n",
    "dados_teste.head()"
   ]
  },
  {
   "cell_type": "code",
   "execution_count": 128,
   "metadata": {},
   "outputs": [],
   "source": [
    "# Representação embedding para os atributos de teste\n",
    "teste_embedding_matrix = concatenate_embeddings(df = dados_teste, \n",
    "                                                embedding_model = model_glove_twitter, \n",
    "                                                seq_len = sequence_max_length,\n",
    "                                                sequence_embedding_col = 'text_embedding',\n",
    "                                                static_embedding_cols = ['keyword_embedding'],\n",
    "                                                static_singles_cols = ['num_all_caps', \n",
    "                                                                       'num_caps', \n",
    "                                                                       'num_words', \n",
    "                                                                       'sent_neg', \n",
    "                                                                       'sent_neu', \n",
    "                                                                       'sent_pos', \n",
    "                                                                       'sent_compound'])"
   ]
  },
  {
   "cell_type": "code",
   "execution_count": 129,
   "metadata": {},
   "outputs": [],
   "source": [
    "# Gera objeto com os atributos\n",
    "X_teste = torch.from_numpy(teste_embedding_matrix).float().to(device)"
   ]
  },
  {
   "cell_type": "code",
   "execution_count": 130,
   "metadata": {},
   "outputs": [],
   "source": [
    "# Previsões\n",
    "preds = modelo.predict(X_teste)"
   ]
  },
  {
   "cell_type": "code",
   "execution_count": 131,
   "metadata": {},
   "outputs": [],
   "source": [
    "# Concatena previsões e ids de cada registro de teste em um dataframe\n",
    "final_preds = preds.cpu().numpy().reshape(-1,1)\n",
    "ids = dados_teste['id'].values.reshape(-1,1)\n",
    "data = np.hstack((ids, final_preds))"
   ]
  },
  {
   "cell_type": "code",
   "execution_count": 132,
   "metadata": {},
   "outputs": [],
   "source": [
    "# Dataframe\n",
    "previsoes = pd.DataFrame(data = data, columns = ['id', 'target'])"
   ]
  },
  {
   "cell_type": "code",
   "execution_count": 133,
   "metadata": {},
   "outputs": [
    {
     "data": {
      "text/html": [
       "<div>\n",
       "<style scoped>\n",
       "    .dataframe tbody tr th:only-of-type {\n",
       "        vertical-align: middle;\n",
       "    }\n",
       "\n",
       "    .dataframe tbody tr th {\n",
       "        vertical-align: top;\n",
       "    }\n",
       "\n",
       "    .dataframe thead th {\n",
       "        text-align: right;\n",
       "    }\n",
       "</style>\n",
       "<table border=\"1\" class=\"dataframe\">\n",
       "  <thead>\n",
       "    <tr style=\"text-align: right;\">\n",
       "      <th></th>\n",
       "      <th>id</th>\n",
       "      <th>target</th>\n",
       "    </tr>\n",
       "  </thead>\n",
       "  <tbody>\n",
       "    <tr>\n",
       "      <th>0</th>\n",
       "      <td>0</td>\n",
       "      <td>0</td>\n",
       "    </tr>\n",
       "    <tr>\n",
       "      <th>1</th>\n",
       "      <td>2</td>\n",
       "      <td>1</td>\n",
       "    </tr>\n",
       "    <tr>\n",
       "      <th>2</th>\n",
       "      <td>3</td>\n",
       "      <td>1</td>\n",
       "    </tr>\n",
       "    <tr>\n",
       "      <th>3</th>\n",
       "      <td>9</td>\n",
       "      <td>1</td>\n",
       "    </tr>\n",
       "    <tr>\n",
       "      <th>4</th>\n",
       "      <td>11</td>\n",
       "      <td>1</td>\n",
       "    </tr>\n",
       "  </tbody>\n",
       "</table>\n",
       "</div>"
      ],
      "text/plain": [
       "   id  target\n",
       "0   0       0\n",
       "1   2       1\n",
       "2   3       1\n",
       "3   9       1\n",
       "4  11       1"
      ]
     },
     "execution_count": 133,
     "metadata": {},
     "output_type": "execute_result"
    }
   ],
   "source": [
    "# Visualiza\n",
    "previsoes.head()"
   ]
  },
  {
   "cell_type": "code",
   "execution_count": 134,
   "metadata": {},
   "outputs": [],
   "source": [
    "# Salva as previsões em disco\n",
    "previsoes.to_csv('dados/previsoes.csv', index = False)"
   ]
  }
 ],
 "metadata": {
  "kernelspec": {
   "display_name": "Python [conda env:pytorch]",
   "language": "python",
   "name": "conda-env-pytorch-py"
  },
  "language_info": {
   "codemirror_mode": {
    "name": "ipython",
    "version": 3
   },
   "file_extension": ".py",
   "mimetype": "text/x-python",
   "name": "python",
   "nbconvert_exporter": "python",
   "pygments_lexer": "ipython3",
   "version": "3.9.7"
  }
 },
 "nbformat": 4,
 "nbformat_minor": 2
}
